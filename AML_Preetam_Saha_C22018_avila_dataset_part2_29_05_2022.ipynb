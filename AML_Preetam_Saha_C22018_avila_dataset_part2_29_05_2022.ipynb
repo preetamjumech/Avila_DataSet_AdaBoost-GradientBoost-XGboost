{
  "nbformat": 4,
  "nbformat_minor": 0,
  "metadata": {
    "colab": {
      "name": "AML_Preetam Saha_C22018.avila_dataset_part2_29.05.2022.ipynb",
      "provenance": [],
      "collapsed_sections": [],
      "authorship_tag": "ABX9TyMCJ6X88SxR+2GNNwpcGOAR",
      "include_colab_link": true
    },
    "kernelspec": {
      "name": "python3",
      "display_name": "Python 3"
    },
    "language_info": {
      "name": "python"
    }
  },
  "cells": [
    {
      "cell_type": "markdown",
      "metadata": {
        "id": "view-in-github",
        "colab_type": "text"
      },
      "source": [
        "<a href=\"https://colab.research.google.com/github/preetamjumech/Avila_DataSet_AdaBoost-GradientBoost-XGboost/blob/main/AML_Preetam_Saha_C22018_avila_dataset_part2_29_05_2022.ipynb\" target=\"_parent\"><img src=\"https://colab.research.google.com/assets/colab-badge.svg\" alt=\"Open In Colab\"/></a>"
      ]
    },
    {
      "cell_type": "code",
      "execution_count": 1,
      "metadata": {
        "id": "i_BZlG0RAvsy"
      },
      "outputs": [],
      "source": [
        "import numpy as np\n",
        "import pandas as pd\n",
        "import matplotlib.pyplot as plt\n",
        "import seaborn as sns\n",
        "%matplotlib inline\n",
        "import warnings\n",
        "warnings.filterwarnings(\"ignore\")\n",
        "\n",
        "from sklearn.tree import DecisionTreeRegressor\n",
        "from sklearn.neighbors import KNeighborsRegressor\n",
        "from itertools import combinations\n",
        "from sklearn.model_selection import cross_val_score\n",
        "from sklearn.metrics import mean_squared_error, cohen_kappa_score, make_scorer"
      ]
    },
    {
      "cell_type": "code",
      "source": [
        "df_train=pd.read_csv(\"avila-tr.txt\",header=None)\n",
        "df_train.head()"
      ],
      "metadata": {
        "colab": {
          "base_uri": "https://localhost:8080/",
          "height": 206
        },
        "id": "z0kiiHp-A2n3",
        "outputId": "aa26b5fb-db2e-4d4c-d78c-becfae0bf6ff"
      },
      "execution_count": 2,
      "outputs": [
        {
          "output_type": "execute_result",
          "data": {
            "text/plain": [
              "         0         1         2         3         4         5         6   \\\n",
              "0  0.266074 -0.165620  0.320980  0.483299  0.172340  0.273364  0.371178   \n",
              "1  0.130292  0.870736 -3.210528  0.062493  0.261718  1.436060  1.465940   \n",
              "2 -0.116585  0.069915  0.068476 -0.783147  0.261718  0.439463 -0.081827   \n",
              "3  0.031541  0.297600 -3.210528 -0.583590 -0.721442 -0.307984  0.710932   \n",
              "4  0.229043  0.807926 -0.052442  0.082634  0.261718  0.148790  0.635431   \n",
              "\n",
              "         7         8         9  10  \n",
              "0  0.929823  0.251173  0.159345  A  \n",
              "1  0.636203  0.282354  0.515587  A  \n",
              "2 -0.888236 -0.123005  0.582939  A  \n",
              "3  1.051693  0.594169 -0.533994  A  \n",
              "4  0.051062  0.032902 -0.086652  F  "
            ],
            "text/html": [
              "\n",
              "  <div id=\"df-38dd69a1-4280-46f8-b946-d84b1086355c\">\n",
              "    <div class=\"colab-df-container\">\n",
              "      <div>\n",
              "<style scoped>\n",
              "    .dataframe tbody tr th:only-of-type {\n",
              "        vertical-align: middle;\n",
              "    }\n",
              "\n",
              "    .dataframe tbody tr th {\n",
              "        vertical-align: top;\n",
              "    }\n",
              "\n",
              "    .dataframe thead th {\n",
              "        text-align: right;\n",
              "    }\n",
              "</style>\n",
              "<table border=\"1\" class=\"dataframe\">\n",
              "  <thead>\n",
              "    <tr style=\"text-align: right;\">\n",
              "      <th></th>\n",
              "      <th>0</th>\n",
              "      <th>1</th>\n",
              "      <th>2</th>\n",
              "      <th>3</th>\n",
              "      <th>4</th>\n",
              "      <th>5</th>\n",
              "      <th>6</th>\n",
              "      <th>7</th>\n",
              "      <th>8</th>\n",
              "      <th>9</th>\n",
              "      <th>10</th>\n",
              "    </tr>\n",
              "  </thead>\n",
              "  <tbody>\n",
              "    <tr>\n",
              "      <th>0</th>\n",
              "      <td>0.266074</td>\n",
              "      <td>-0.165620</td>\n",
              "      <td>0.320980</td>\n",
              "      <td>0.483299</td>\n",
              "      <td>0.172340</td>\n",
              "      <td>0.273364</td>\n",
              "      <td>0.371178</td>\n",
              "      <td>0.929823</td>\n",
              "      <td>0.251173</td>\n",
              "      <td>0.159345</td>\n",
              "      <td>A</td>\n",
              "    </tr>\n",
              "    <tr>\n",
              "      <th>1</th>\n",
              "      <td>0.130292</td>\n",
              "      <td>0.870736</td>\n",
              "      <td>-3.210528</td>\n",
              "      <td>0.062493</td>\n",
              "      <td>0.261718</td>\n",
              "      <td>1.436060</td>\n",
              "      <td>1.465940</td>\n",
              "      <td>0.636203</td>\n",
              "      <td>0.282354</td>\n",
              "      <td>0.515587</td>\n",
              "      <td>A</td>\n",
              "    </tr>\n",
              "    <tr>\n",
              "      <th>2</th>\n",
              "      <td>-0.116585</td>\n",
              "      <td>0.069915</td>\n",
              "      <td>0.068476</td>\n",
              "      <td>-0.783147</td>\n",
              "      <td>0.261718</td>\n",
              "      <td>0.439463</td>\n",
              "      <td>-0.081827</td>\n",
              "      <td>-0.888236</td>\n",
              "      <td>-0.123005</td>\n",
              "      <td>0.582939</td>\n",
              "      <td>A</td>\n",
              "    </tr>\n",
              "    <tr>\n",
              "      <th>3</th>\n",
              "      <td>0.031541</td>\n",
              "      <td>0.297600</td>\n",
              "      <td>-3.210528</td>\n",
              "      <td>-0.583590</td>\n",
              "      <td>-0.721442</td>\n",
              "      <td>-0.307984</td>\n",
              "      <td>0.710932</td>\n",
              "      <td>1.051693</td>\n",
              "      <td>0.594169</td>\n",
              "      <td>-0.533994</td>\n",
              "      <td>A</td>\n",
              "    </tr>\n",
              "    <tr>\n",
              "      <th>4</th>\n",
              "      <td>0.229043</td>\n",
              "      <td>0.807926</td>\n",
              "      <td>-0.052442</td>\n",
              "      <td>0.082634</td>\n",
              "      <td>0.261718</td>\n",
              "      <td>0.148790</td>\n",
              "      <td>0.635431</td>\n",
              "      <td>0.051062</td>\n",
              "      <td>0.032902</td>\n",
              "      <td>-0.086652</td>\n",
              "      <td>F</td>\n",
              "    </tr>\n",
              "  </tbody>\n",
              "</table>\n",
              "</div>\n",
              "      <button class=\"colab-df-convert\" onclick=\"convertToInteractive('df-38dd69a1-4280-46f8-b946-d84b1086355c')\"\n",
              "              title=\"Convert this dataframe to an interactive table.\"\n",
              "              style=\"display:none;\">\n",
              "        \n",
              "  <svg xmlns=\"http://www.w3.org/2000/svg\" height=\"24px\"viewBox=\"0 0 24 24\"\n",
              "       width=\"24px\">\n",
              "    <path d=\"M0 0h24v24H0V0z\" fill=\"none\"/>\n",
              "    <path d=\"M18.56 5.44l.94 2.06.94-2.06 2.06-.94-2.06-.94-.94-2.06-.94 2.06-2.06.94zm-11 1L8.5 8.5l.94-2.06 2.06-.94-2.06-.94L8.5 2.5l-.94 2.06-2.06.94zm10 10l.94 2.06.94-2.06 2.06-.94-2.06-.94-.94-2.06-.94 2.06-2.06.94z\"/><path d=\"M17.41 7.96l-1.37-1.37c-.4-.4-.92-.59-1.43-.59-.52 0-1.04.2-1.43.59L10.3 9.45l-7.72 7.72c-.78.78-.78 2.05 0 2.83L4 21.41c.39.39.9.59 1.41.59.51 0 1.02-.2 1.41-.59l7.78-7.78 2.81-2.81c.8-.78.8-2.07 0-2.86zM5.41 20L4 18.59l7.72-7.72 1.47 1.35L5.41 20z\"/>\n",
              "  </svg>\n",
              "      </button>\n",
              "      \n",
              "  <style>\n",
              "    .colab-df-container {\n",
              "      display:flex;\n",
              "      flex-wrap:wrap;\n",
              "      gap: 12px;\n",
              "    }\n",
              "\n",
              "    .colab-df-convert {\n",
              "      background-color: #E8F0FE;\n",
              "      border: none;\n",
              "      border-radius: 50%;\n",
              "      cursor: pointer;\n",
              "      display: none;\n",
              "      fill: #1967D2;\n",
              "      height: 32px;\n",
              "      padding: 0 0 0 0;\n",
              "      width: 32px;\n",
              "    }\n",
              "\n",
              "    .colab-df-convert:hover {\n",
              "      background-color: #E2EBFA;\n",
              "      box-shadow: 0px 1px 2px rgba(60, 64, 67, 0.3), 0px 1px 3px 1px rgba(60, 64, 67, 0.15);\n",
              "      fill: #174EA6;\n",
              "    }\n",
              "\n",
              "    [theme=dark] .colab-df-convert {\n",
              "      background-color: #3B4455;\n",
              "      fill: #D2E3FC;\n",
              "    }\n",
              "\n",
              "    [theme=dark] .colab-df-convert:hover {\n",
              "      background-color: #434B5C;\n",
              "      box-shadow: 0px 1px 3px 1px rgba(0, 0, 0, 0.15);\n",
              "      filter: drop-shadow(0px 1px 2px rgba(0, 0, 0, 0.3));\n",
              "      fill: #FFFFFF;\n",
              "    }\n",
              "  </style>\n",
              "\n",
              "      <script>\n",
              "        const buttonEl =\n",
              "          document.querySelector('#df-38dd69a1-4280-46f8-b946-d84b1086355c button.colab-df-convert');\n",
              "        buttonEl.style.display =\n",
              "          google.colab.kernel.accessAllowed ? 'block' : 'none';\n",
              "\n",
              "        async function convertToInteractive(key) {\n",
              "          const element = document.querySelector('#df-38dd69a1-4280-46f8-b946-d84b1086355c');\n",
              "          const dataTable =\n",
              "            await google.colab.kernel.invokeFunction('convertToInteractive',\n",
              "                                                     [key], {});\n",
              "          if (!dataTable) return;\n",
              "\n",
              "          const docLinkHtml = 'Like what you see? Visit the ' +\n",
              "            '<a target=\"_blank\" href=https://colab.research.google.com/notebooks/data_table.ipynb>data table notebook</a>'\n",
              "            + ' to learn more about interactive tables.';\n",
              "          element.innerHTML = '';\n",
              "          dataTable['output_type'] = 'display_data';\n",
              "          await google.colab.output.renderOutput(dataTable, element);\n",
              "          const docLink = document.createElement('div');\n",
              "          docLink.innerHTML = docLinkHtml;\n",
              "          element.appendChild(docLink);\n",
              "        }\n",
              "      </script>\n",
              "    </div>\n",
              "  </div>\n",
              "  "
            ]
          },
          "metadata": {},
          "execution_count": 2
        }
      ]
    },
    {
      "cell_type": "code",
      "source": [
        "df_train.isnull().sum()"
      ],
      "metadata": {
        "colab": {
          "base_uri": "https://localhost:8080/"
        },
        "id": "if0X0SKHBSXK",
        "outputId": "27af9960-b826-4be7-e951-9298c31109f9"
      },
      "execution_count": null,
      "outputs": [
        {
          "output_type": "execute_result",
          "data": {
            "text/plain": [
              "0     0\n",
              "1     0\n",
              "2     0\n",
              "3     0\n",
              "4     0\n",
              "5     0\n",
              "6     0\n",
              "7     0\n",
              "8     0\n",
              "9     0\n",
              "10    0\n",
              "dtype: int64"
            ]
          },
          "metadata": {},
          "execution_count": 5
        }
      ]
    },
    {
      "cell_type": "code",
      "source": [
        "df_train[10].value_counts()"
      ],
      "metadata": {
        "colab": {
          "base_uri": "https://localhost:8080/"
        },
        "id": "Cr7lHTsmBTFr",
        "outputId": "22427ad5-af44-4553-bf2c-e69a2d8addad"
      },
      "execution_count": null,
      "outputs": [
        {
          "output_type": "execute_result",
          "data": {
            "text/plain": [
              "A    4286\n",
              "F    1961\n",
              "E    1095\n",
              "I     831\n",
              "X     522\n",
              "H     519\n",
              "G     446\n",
              "D     352\n",
              "Y     266\n",
              "C     103\n",
              "W      44\n",
              "B       5\n",
              "Name: 10, dtype: int64"
            ]
          },
          "metadata": {},
          "execution_count": 6
        }
      ]
    },
    {
      "cell_type": "code",
      "source": [
        "df_train.info()"
      ],
      "metadata": {
        "colab": {
          "base_uri": "https://localhost:8080/"
        },
        "id": "ZAyxp00oBkFO",
        "outputId": "b8bca968-9f08-4920-9d36-05c10aec49ce"
      },
      "execution_count": null,
      "outputs": [
        {
          "output_type": "stream",
          "name": "stdout",
          "text": [
            "<class 'pandas.core.frame.DataFrame'>\n",
            "RangeIndex: 10430 entries, 0 to 10429\n",
            "Data columns (total 11 columns):\n",
            " #   Column  Non-Null Count  Dtype  \n",
            "---  ------  --------------  -----  \n",
            " 0   0       10430 non-null  float64\n",
            " 1   1       10430 non-null  float64\n",
            " 2   2       10430 non-null  float64\n",
            " 3   3       10430 non-null  float64\n",
            " 4   4       10430 non-null  float64\n",
            " 5   5       10430 non-null  float64\n",
            " 6   6       10430 non-null  float64\n",
            " 7   7       10430 non-null  float64\n",
            " 8   8       10430 non-null  float64\n",
            " 9   9       10430 non-null  float64\n",
            " 10  10      10430 non-null  object \n",
            "dtypes: float64(10), object(1)\n",
            "memory usage: 896.5+ KB\n"
          ]
        }
      ]
    },
    {
      "cell_type": "code",
      "source": [
        "df_train.describe()"
      ],
      "metadata": {
        "colab": {
          "base_uri": "https://localhost:8080/",
          "height": 300
        },
        "id": "fGbi2LouB6DH",
        "outputId": "be49dfd6-8282-45b6-c9ca-0c5ee42f2f2e"
      },
      "execution_count": null,
      "outputs": [
        {
          "output_type": "execute_result",
          "data": {
            "text/plain": [
              "                  0             1             2             3             4  \\\n",
              "count  10430.000000  10430.000000  10430.000000  10430.000000  10430.000000   \n",
              "mean       0.000852      0.033611     -0.000525     -0.002387      0.006370   \n",
              "std        0.991431      3.920868      1.120202      1.008527      0.992053   \n",
              "min       -3.498799     -2.426761     -3.210528     -5.440122     -4.922215   \n",
              "25%       -0.128929     -0.259834      0.064919     -0.528002      0.172340   \n",
              "50%        0.043885     -0.055704      0.217845      0.095763      0.261718   \n",
              "75%        0.204355      0.203385      0.352988      0.658210      0.261718   \n",
              "max       11.819916    386.000000     50.000000      3.987152      1.066121   \n",
              "\n",
              "                  5             6             7             8             9  \n",
              "count  10430.000000  10430.000000  10430.000000  10430.000000  10430.000000  \n",
              "mean       0.013973      0.005605      0.010323      0.012914      0.000818  \n",
              "std        1.126245      1.313754      1.003507      1.087665      1.007094  \n",
              "min       -7.450257    -11.935457     -4.247781     -5.486218     -6.719324  \n",
              "25%       -0.598658     -0.044076     -0.541991     -0.372457     -0.516097  \n",
              "50%       -0.058835      0.220177      0.111803      0.064084     -0.034513  \n",
              "75%        0.564038      0.446679      0.654944      0.500624      0.530855  \n",
              "max       53.000000     83.000000     13.173081     44.000000      4.671232  "
            ],
            "text/html": [
              "\n",
              "  <div id=\"df-c15b2030-dc2f-4ad6-866d-196656a27b2c\">\n",
              "    <div class=\"colab-df-container\">\n",
              "      <div>\n",
              "<style scoped>\n",
              "    .dataframe tbody tr th:only-of-type {\n",
              "        vertical-align: middle;\n",
              "    }\n",
              "\n",
              "    .dataframe tbody tr th {\n",
              "        vertical-align: top;\n",
              "    }\n",
              "\n",
              "    .dataframe thead th {\n",
              "        text-align: right;\n",
              "    }\n",
              "</style>\n",
              "<table border=\"1\" class=\"dataframe\">\n",
              "  <thead>\n",
              "    <tr style=\"text-align: right;\">\n",
              "      <th></th>\n",
              "      <th>0</th>\n",
              "      <th>1</th>\n",
              "      <th>2</th>\n",
              "      <th>3</th>\n",
              "      <th>4</th>\n",
              "      <th>5</th>\n",
              "      <th>6</th>\n",
              "      <th>7</th>\n",
              "      <th>8</th>\n",
              "      <th>9</th>\n",
              "    </tr>\n",
              "  </thead>\n",
              "  <tbody>\n",
              "    <tr>\n",
              "      <th>count</th>\n",
              "      <td>10430.000000</td>\n",
              "      <td>10430.000000</td>\n",
              "      <td>10430.000000</td>\n",
              "      <td>10430.000000</td>\n",
              "      <td>10430.000000</td>\n",
              "      <td>10430.000000</td>\n",
              "      <td>10430.000000</td>\n",
              "      <td>10430.000000</td>\n",
              "      <td>10430.000000</td>\n",
              "      <td>10430.000000</td>\n",
              "    </tr>\n",
              "    <tr>\n",
              "      <th>mean</th>\n",
              "      <td>0.000852</td>\n",
              "      <td>0.033611</td>\n",
              "      <td>-0.000525</td>\n",
              "      <td>-0.002387</td>\n",
              "      <td>0.006370</td>\n",
              "      <td>0.013973</td>\n",
              "      <td>0.005605</td>\n",
              "      <td>0.010323</td>\n",
              "      <td>0.012914</td>\n",
              "      <td>0.000818</td>\n",
              "    </tr>\n",
              "    <tr>\n",
              "      <th>std</th>\n",
              "      <td>0.991431</td>\n",
              "      <td>3.920868</td>\n",
              "      <td>1.120202</td>\n",
              "      <td>1.008527</td>\n",
              "      <td>0.992053</td>\n",
              "      <td>1.126245</td>\n",
              "      <td>1.313754</td>\n",
              "      <td>1.003507</td>\n",
              "      <td>1.087665</td>\n",
              "      <td>1.007094</td>\n",
              "    </tr>\n",
              "    <tr>\n",
              "      <th>min</th>\n",
              "      <td>-3.498799</td>\n",
              "      <td>-2.426761</td>\n",
              "      <td>-3.210528</td>\n",
              "      <td>-5.440122</td>\n",
              "      <td>-4.922215</td>\n",
              "      <td>-7.450257</td>\n",
              "      <td>-11.935457</td>\n",
              "      <td>-4.247781</td>\n",
              "      <td>-5.486218</td>\n",
              "      <td>-6.719324</td>\n",
              "    </tr>\n",
              "    <tr>\n",
              "      <th>25%</th>\n",
              "      <td>-0.128929</td>\n",
              "      <td>-0.259834</td>\n",
              "      <td>0.064919</td>\n",
              "      <td>-0.528002</td>\n",
              "      <td>0.172340</td>\n",
              "      <td>-0.598658</td>\n",
              "      <td>-0.044076</td>\n",
              "      <td>-0.541991</td>\n",
              "      <td>-0.372457</td>\n",
              "      <td>-0.516097</td>\n",
              "    </tr>\n",
              "    <tr>\n",
              "      <th>50%</th>\n",
              "      <td>0.043885</td>\n",
              "      <td>-0.055704</td>\n",
              "      <td>0.217845</td>\n",
              "      <td>0.095763</td>\n",
              "      <td>0.261718</td>\n",
              "      <td>-0.058835</td>\n",
              "      <td>0.220177</td>\n",
              "      <td>0.111803</td>\n",
              "      <td>0.064084</td>\n",
              "      <td>-0.034513</td>\n",
              "    </tr>\n",
              "    <tr>\n",
              "      <th>75%</th>\n",
              "      <td>0.204355</td>\n",
              "      <td>0.203385</td>\n",
              "      <td>0.352988</td>\n",
              "      <td>0.658210</td>\n",
              "      <td>0.261718</td>\n",
              "      <td>0.564038</td>\n",
              "      <td>0.446679</td>\n",
              "      <td>0.654944</td>\n",
              "      <td>0.500624</td>\n",
              "      <td>0.530855</td>\n",
              "    </tr>\n",
              "    <tr>\n",
              "      <th>max</th>\n",
              "      <td>11.819916</td>\n",
              "      <td>386.000000</td>\n",
              "      <td>50.000000</td>\n",
              "      <td>3.987152</td>\n",
              "      <td>1.066121</td>\n",
              "      <td>53.000000</td>\n",
              "      <td>83.000000</td>\n",
              "      <td>13.173081</td>\n",
              "      <td>44.000000</td>\n",
              "      <td>4.671232</td>\n",
              "    </tr>\n",
              "  </tbody>\n",
              "</table>\n",
              "</div>\n",
              "      <button class=\"colab-df-convert\" onclick=\"convertToInteractive('df-c15b2030-dc2f-4ad6-866d-196656a27b2c')\"\n",
              "              title=\"Convert this dataframe to an interactive table.\"\n",
              "              style=\"display:none;\">\n",
              "        \n",
              "  <svg xmlns=\"http://www.w3.org/2000/svg\" height=\"24px\"viewBox=\"0 0 24 24\"\n",
              "       width=\"24px\">\n",
              "    <path d=\"M0 0h24v24H0V0z\" fill=\"none\"/>\n",
              "    <path d=\"M18.56 5.44l.94 2.06.94-2.06 2.06-.94-2.06-.94-.94-2.06-.94 2.06-2.06.94zm-11 1L8.5 8.5l.94-2.06 2.06-.94-2.06-.94L8.5 2.5l-.94 2.06-2.06.94zm10 10l.94 2.06.94-2.06 2.06-.94-2.06-.94-.94-2.06-.94 2.06-2.06.94z\"/><path d=\"M17.41 7.96l-1.37-1.37c-.4-.4-.92-.59-1.43-.59-.52 0-1.04.2-1.43.59L10.3 9.45l-7.72 7.72c-.78.78-.78 2.05 0 2.83L4 21.41c.39.39.9.59 1.41.59.51 0 1.02-.2 1.41-.59l7.78-7.78 2.81-2.81c.8-.78.8-2.07 0-2.86zM5.41 20L4 18.59l7.72-7.72 1.47 1.35L5.41 20z\"/>\n",
              "  </svg>\n",
              "      </button>\n",
              "      \n",
              "  <style>\n",
              "    .colab-df-container {\n",
              "      display:flex;\n",
              "      flex-wrap:wrap;\n",
              "      gap: 12px;\n",
              "    }\n",
              "\n",
              "    .colab-df-convert {\n",
              "      background-color: #E8F0FE;\n",
              "      border: none;\n",
              "      border-radius: 50%;\n",
              "      cursor: pointer;\n",
              "      display: none;\n",
              "      fill: #1967D2;\n",
              "      height: 32px;\n",
              "      padding: 0 0 0 0;\n",
              "      width: 32px;\n",
              "    }\n",
              "\n",
              "    .colab-df-convert:hover {\n",
              "      background-color: #E2EBFA;\n",
              "      box-shadow: 0px 1px 2px rgba(60, 64, 67, 0.3), 0px 1px 3px 1px rgba(60, 64, 67, 0.15);\n",
              "      fill: #174EA6;\n",
              "    }\n",
              "\n",
              "    [theme=dark] .colab-df-convert {\n",
              "      background-color: #3B4455;\n",
              "      fill: #D2E3FC;\n",
              "    }\n",
              "\n",
              "    [theme=dark] .colab-df-convert:hover {\n",
              "      background-color: #434B5C;\n",
              "      box-shadow: 0px 1px 3px 1px rgba(0, 0, 0, 0.15);\n",
              "      filter: drop-shadow(0px 1px 2px rgba(0, 0, 0, 0.3));\n",
              "      fill: #FFFFFF;\n",
              "    }\n",
              "  </style>\n",
              "\n",
              "      <script>\n",
              "        const buttonEl =\n",
              "          document.querySelector('#df-c15b2030-dc2f-4ad6-866d-196656a27b2c button.colab-df-convert');\n",
              "        buttonEl.style.display =\n",
              "          google.colab.kernel.accessAllowed ? 'block' : 'none';\n",
              "\n",
              "        async function convertToInteractive(key) {\n",
              "          const element = document.querySelector('#df-c15b2030-dc2f-4ad6-866d-196656a27b2c');\n",
              "          const dataTable =\n",
              "            await google.colab.kernel.invokeFunction('convertToInteractive',\n",
              "                                                     [key], {});\n",
              "          if (!dataTable) return;\n",
              "\n",
              "          const docLinkHtml = 'Like what you see? Visit the ' +\n",
              "            '<a target=\"_blank\" href=https://colab.research.google.com/notebooks/data_table.ipynb>data table notebook</a>'\n",
              "            + ' to learn more about interactive tables.';\n",
              "          element.innerHTML = '';\n",
              "          dataTable['output_type'] = 'display_data';\n",
              "          await google.colab.output.renderOutput(dataTable, element);\n",
              "          const docLink = document.createElement('div');\n",
              "          docLink.innerHTML = docLinkHtml;\n",
              "          element.appendChild(docLink);\n",
              "        }\n",
              "      </script>\n",
              "    </div>\n",
              "  </div>\n",
              "  "
            ]
          },
          "metadata": {},
          "execution_count": 8
        }
      ]
    },
    {
      "cell_type": "code",
      "source": [
        "df_train.corr().unstack().sort_values(ascending=False).drop_duplicates()"
      ],
      "metadata": {
        "colab": {
          "base_uri": "https://localhost:8080/"
        },
        "id": "ZNKICzQPDYC6",
        "outputId": "0285766b-d5fd-4d9b-d2f7-8fb9a160b31a"
      },
      "execution_count": null,
      "outputs": [
        {
          "output_type": "execute_result",
          "data": {
            "text/plain": [
              "0  0    1.000000\n",
              "5  9    0.755992\n",
              "1  6    0.582443\n",
              "8  7    0.487543\n",
              "5  6    0.462871\n",
              "4  0    0.451966\n",
              "5  1    0.424384\n",
              "2  1    0.414578\n",
              "1  8    0.349011\n",
              "7  3    0.338970\n",
              "9  3    0.323915\n",
              "6  2    0.289165\n",
              "3  8    0.281239\n",
              "8  4    0.274883\n",
              "6  8    0.272458\n",
              "   9    0.263015\n",
              "3  5    0.257627\n",
              "8  5    0.214207\n",
              "   2    0.193194\n",
              "9  8    0.186226\n",
              "4  9    0.151590\n",
              "2  3    0.143608\n",
              "   5    0.132723\n",
              "4  3    0.096426\n",
              "0  8    0.059427\n",
              "6  3    0.043915\n",
              "7  1    0.041227\n",
              "5  4    0.039824\n",
              "7  2    0.034970\n",
              "2  0    0.034473\n",
              "6  4    0.026447\n",
              "4  2    0.011333\n",
              "7  6    0.002444\n",
              "1  3    0.002026\n",
              "6  0   -0.001173\n",
              "9  0   -0.002839\n",
              "7  9   -0.016045\n",
              "9  1   -0.024810\n",
              "0  1   -0.037577\n",
              "7  0   -0.043336\n",
              "0  5   -0.044663\n",
              "9  2   -0.045392\n",
              "7  5   -0.059628\n",
              "0  3   -0.065338\n",
              "4  1   -0.067759\n",
              "7  4   -0.071220\n",
              "dtype: float64"
            ]
          },
          "metadata": {},
          "execution_count": 10
        }
      ]
    },
    {
      "cell_type": "code",
      "source": [
        "df_test=pd.read_csv(\"avila-ts.txt\",header=None)\n",
        "df_test.head()"
      ],
      "metadata": {
        "colab": {
          "base_uri": "https://localhost:8080/",
          "height": 206
        },
        "id": "zscRxniiEebg",
        "outputId": "39a4957e-854c-4402-cf10-a69e99a04067"
      },
      "execution_count": null,
      "outputs": [
        {
          "output_type": "execute_result",
          "data": {
            "text/plain": [
              "         0         1         2         3         4         5         6   \\\n",
              "0 -3.498799  0.250492  0.232070  1.224178 -4.922215  1.145386  0.182426   \n",
              "1  0.204355 -0.354049  0.320980  0.410166 -0.989576 -2.218127  0.220177   \n",
              "2  0.759828 -1.304042 -0.023991 -0.973663 -0.006417 -0.349509 -0.421580   \n",
              "3 -0.005490  0.360409  0.281860 -0.213479 -1.168333 -1.013906 -0.346080   \n",
              "4  0.080916  0.101320  0.104040  0.140490  0.261718  0.480988  0.710932   \n",
              "\n",
              "         7         8         9  10  \n",
              "0 -0.165983 -0.123005  1.087144  W  \n",
              "1  0.181844  2.090879 -2.009758  A  \n",
              "2 -0.450127  0.469443  0.060952  I  \n",
              "3  1.176165  0.968347 -0.627999  E  \n",
              "4 -0.253430 -0.497183  0.155681  A  "
            ],
            "text/html": [
              "\n",
              "  <div id=\"df-090f2e56-00f9-4ec2-aedf-dafe44b89e3d\">\n",
              "    <div class=\"colab-df-container\">\n",
              "      <div>\n",
              "<style scoped>\n",
              "    .dataframe tbody tr th:only-of-type {\n",
              "        vertical-align: middle;\n",
              "    }\n",
              "\n",
              "    .dataframe tbody tr th {\n",
              "        vertical-align: top;\n",
              "    }\n",
              "\n",
              "    .dataframe thead th {\n",
              "        text-align: right;\n",
              "    }\n",
              "</style>\n",
              "<table border=\"1\" class=\"dataframe\">\n",
              "  <thead>\n",
              "    <tr style=\"text-align: right;\">\n",
              "      <th></th>\n",
              "      <th>0</th>\n",
              "      <th>1</th>\n",
              "      <th>2</th>\n",
              "      <th>3</th>\n",
              "      <th>4</th>\n",
              "      <th>5</th>\n",
              "      <th>6</th>\n",
              "      <th>7</th>\n",
              "      <th>8</th>\n",
              "      <th>9</th>\n",
              "      <th>10</th>\n",
              "    </tr>\n",
              "  </thead>\n",
              "  <tbody>\n",
              "    <tr>\n",
              "      <th>0</th>\n",
              "      <td>-3.498799</td>\n",
              "      <td>0.250492</td>\n",
              "      <td>0.232070</td>\n",
              "      <td>1.224178</td>\n",
              "      <td>-4.922215</td>\n",
              "      <td>1.145386</td>\n",
              "      <td>0.182426</td>\n",
              "      <td>-0.165983</td>\n",
              "      <td>-0.123005</td>\n",
              "      <td>1.087144</td>\n",
              "      <td>W</td>\n",
              "    </tr>\n",
              "    <tr>\n",
              "      <th>1</th>\n",
              "      <td>0.204355</td>\n",
              "      <td>-0.354049</td>\n",
              "      <td>0.320980</td>\n",
              "      <td>0.410166</td>\n",
              "      <td>-0.989576</td>\n",
              "      <td>-2.218127</td>\n",
              "      <td>0.220177</td>\n",
              "      <td>0.181844</td>\n",
              "      <td>2.090879</td>\n",
              "      <td>-2.009758</td>\n",
              "      <td>A</td>\n",
              "    </tr>\n",
              "    <tr>\n",
              "      <th>2</th>\n",
              "      <td>0.759828</td>\n",
              "      <td>-1.304042</td>\n",
              "      <td>-0.023991</td>\n",
              "      <td>-0.973663</td>\n",
              "      <td>-0.006417</td>\n",
              "      <td>-0.349509</td>\n",
              "      <td>-0.421580</td>\n",
              "      <td>-0.450127</td>\n",
              "      <td>0.469443</td>\n",
              "      <td>0.060952</td>\n",
              "      <td>I</td>\n",
              "    </tr>\n",
              "    <tr>\n",
              "      <th>3</th>\n",
              "      <td>-0.005490</td>\n",
              "      <td>0.360409</td>\n",
              "      <td>0.281860</td>\n",
              "      <td>-0.213479</td>\n",
              "      <td>-1.168333</td>\n",
              "      <td>-1.013906</td>\n",
              "      <td>-0.346080</td>\n",
              "      <td>1.176165</td>\n",
              "      <td>0.968347</td>\n",
              "      <td>-0.627999</td>\n",
              "      <td>E</td>\n",
              "    </tr>\n",
              "    <tr>\n",
              "      <th>4</th>\n",
              "      <td>0.080916</td>\n",
              "      <td>0.101320</td>\n",
              "      <td>0.104040</td>\n",
              "      <td>0.140490</td>\n",
              "      <td>0.261718</td>\n",
              "      <td>0.480988</td>\n",
              "      <td>0.710932</td>\n",
              "      <td>-0.253430</td>\n",
              "      <td>-0.497183</td>\n",
              "      <td>0.155681</td>\n",
              "      <td>A</td>\n",
              "    </tr>\n",
              "  </tbody>\n",
              "</table>\n",
              "</div>\n",
              "      <button class=\"colab-df-convert\" onclick=\"convertToInteractive('df-090f2e56-00f9-4ec2-aedf-dafe44b89e3d')\"\n",
              "              title=\"Convert this dataframe to an interactive table.\"\n",
              "              style=\"display:none;\">\n",
              "        \n",
              "  <svg xmlns=\"http://www.w3.org/2000/svg\" height=\"24px\"viewBox=\"0 0 24 24\"\n",
              "       width=\"24px\">\n",
              "    <path d=\"M0 0h24v24H0V0z\" fill=\"none\"/>\n",
              "    <path d=\"M18.56 5.44l.94 2.06.94-2.06 2.06-.94-2.06-.94-.94-2.06-.94 2.06-2.06.94zm-11 1L8.5 8.5l.94-2.06 2.06-.94-2.06-.94L8.5 2.5l-.94 2.06-2.06.94zm10 10l.94 2.06.94-2.06 2.06-.94-2.06-.94-.94-2.06-.94 2.06-2.06.94z\"/><path d=\"M17.41 7.96l-1.37-1.37c-.4-.4-.92-.59-1.43-.59-.52 0-1.04.2-1.43.59L10.3 9.45l-7.72 7.72c-.78.78-.78 2.05 0 2.83L4 21.41c.39.39.9.59 1.41.59.51 0 1.02-.2 1.41-.59l7.78-7.78 2.81-2.81c.8-.78.8-2.07 0-2.86zM5.41 20L4 18.59l7.72-7.72 1.47 1.35L5.41 20z\"/>\n",
              "  </svg>\n",
              "      </button>\n",
              "      \n",
              "  <style>\n",
              "    .colab-df-container {\n",
              "      display:flex;\n",
              "      flex-wrap:wrap;\n",
              "      gap: 12px;\n",
              "    }\n",
              "\n",
              "    .colab-df-convert {\n",
              "      background-color: #E8F0FE;\n",
              "      border: none;\n",
              "      border-radius: 50%;\n",
              "      cursor: pointer;\n",
              "      display: none;\n",
              "      fill: #1967D2;\n",
              "      height: 32px;\n",
              "      padding: 0 0 0 0;\n",
              "      width: 32px;\n",
              "    }\n",
              "\n",
              "    .colab-df-convert:hover {\n",
              "      background-color: #E2EBFA;\n",
              "      box-shadow: 0px 1px 2px rgba(60, 64, 67, 0.3), 0px 1px 3px 1px rgba(60, 64, 67, 0.15);\n",
              "      fill: #174EA6;\n",
              "    }\n",
              "\n",
              "    [theme=dark] .colab-df-convert {\n",
              "      background-color: #3B4455;\n",
              "      fill: #D2E3FC;\n",
              "    }\n",
              "\n",
              "    [theme=dark] .colab-df-convert:hover {\n",
              "      background-color: #434B5C;\n",
              "      box-shadow: 0px 1px 3px 1px rgba(0, 0, 0, 0.15);\n",
              "      filter: drop-shadow(0px 1px 2px rgba(0, 0, 0, 0.3));\n",
              "      fill: #FFFFFF;\n",
              "    }\n",
              "  </style>\n",
              "\n",
              "      <script>\n",
              "        const buttonEl =\n",
              "          document.querySelector('#df-090f2e56-00f9-4ec2-aedf-dafe44b89e3d button.colab-df-convert');\n",
              "        buttonEl.style.display =\n",
              "          google.colab.kernel.accessAllowed ? 'block' : 'none';\n",
              "\n",
              "        async function convertToInteractive(key) {\n",
              "          const element = document.querySelector('#df-090f2e56-00f9-4ec2-aedf-dafe44b89e3d');\n",
              "          const dataTable =\n",
              "            await google.colab.kernel.invokeFunction('convertToInteractive',\n",
              "                                                     [key], {});\n",
              "          if (!dataTable) return;\n",
              "\n",
              "          const docLinkHtml = 'Like what you see? Visit the ' +\n",
              "            '<a target=\"_blank\" href=https://colab.research.google.com/notebooks/data_table.ipynb>data table notebook</a>'\n",
              "            + ' to learn more about interactive tables.';\n",
              "          element.innerHTML = '';\n",
              "          dataTable['output_type'] = 'display_data';\n",
              "          await google.colab.output.renderOutput(dataTable, element);\n",
              "          const docLink = document.createElement('div');\n",
              "          docLink.innerHTML = docLinkHtml;\n",
              "          element.appendChild(docLink);\n",
              "        }\n",
              "      </script>\n",
              "    </div>\n",
              "  </div>\n",
              "  "
            ]
          },
          "metadata": {},
          "execution_count": 11
        }
      ]
    },
    {
      "cell_type": "code",
      "source": [
        "plt.figure(figsize=(16,16))\n",
        "for k in range(9):\n",
        "    plt.subplot(4,3,k+1)\n",
        "    sns.distplot(df_train.iloc[:,k], label='trainset')\n",
        "    sns.distplot(df_test.iloc[:,k], label='testset')\n",
        "    plt.legend()"
      ],
      "metadata": {
        "colab": {
          "base_uri": "https://localhost:8080/",
          "height": 705
        },
        "id": "UMlPnRSjEPlo",
        "outputId": "06038d1a-c380-46bc-e632-4eccd8d5c3ae"
      },
      "execution_count": null,
      "outputs": [
        {
          "output_type": "display_data",
          "data": {
            "text/plain": [
              "<Figure size 1152x1152 with 9 Axes>"
            ],
            "image/png": "[encoded data removed]"
          },
          "metadata": {
            "needs_background": "light"
          }
        }
      ]
    },
    {
      "cell_type": "code",
      "source": [
        "from sklearn.metrics import SCORERS"
      ],
      "metadata": {
        "id": "LxmXh0KKFSgq"
      },
      "execution_count": 3,
      "outputs": []
    },
    {
      "cell_type": "code",
      "source": [
        "SCORERS.keys()"
      ],
      "metadata": {
        "colab": {
          "base_uri": "https://localhost:8080/"
        },
        "id": "K8csJIXCFmET",
        "outputId": "52609fe1-feb8-4d72-9b8e-cd2bc9168d68"
      },
      "execution_count": null,
      "outputs": [
        {
          "output_type": "execute_result",
          "data": {
            "text/plain": [
              "dict_keys(['explained_variance', 'r2', 'max_error', 'neg_median_absolute_error', 'neg_mean_absolute_error', 'neg_mean_absolute_percentage_error', 'neg_mean_squared_error', 'neg_mean_squared_log_error', 'neg_root_mean_squared_error', 'neg_mean_poisson_deviance', 'neg_mean_gamma_deviance', 'accuracy', 'top_k_accuracy', 'roc_auc', 'roc_auc_ovr', 'roc_auc_ovo', 'roc_auc_ovr_weighted', 'roc_auc_ovo_weighted', 'balanced_accuracy', 'average_precision', 'neg_log_loss', 'neg_brier_score', 'adjusted_rand_score', 'rand_score', 'homogeneity_score', 'completeness_score', 'v_measure_score', 'mutual_info_score', 'adjusted_mutual_info_score', 'normalized_mutual_info_score', 'fowlkes_mallows_score', 'precision', 'precision_macro', 'precision_micro', 'precision_samples', 'precision_weighted', 'recall', 'recall_macro', 'recall_micro', 'recall_samples', 'recall_weighted', 'f1', 'f1_macro', 'f1_micro', 'f1_samples', 'f1_weighted', 'jaccard', 'jaccard_macro', 'jaccard_micro', 'jaccard_samples', 'jaccard_weighted'])"
            ]
          },
          "metadata": {},
          "execution_count": 20
        }
      ]
    },
    {
      "cell_type": "code",
      "source": [
        "### mapping non-linearity by DT REGRESSOR"
      ],
      "metadata": {
        "id": "HU1cGRl9qVv3"
      },
      "execution_count": null,
      "outputs": []
    },
    {
      "cell_type": "code",
      "source": [
        "dt = DecisionTreeRegressor(max_depth=10)"
      ],
      "metadata": {
        "id": "ki5buhxeFn5U"
      },
      "execution_count": 5,
      "outputs": []
    },
    {
      "cell_type": "code",
      "source": [
        "score=[]\n",
        "for i , j in combinations(range(9),2):\n",
        "  cv_score=cross_val_score(dt,X=np.array(df_train.iloc[:,i]).reshape(-1,1),y=df_train.iloc[:,j],cv=5,scoring='neg_median_absolute_error').mean()\n",
        "  print(f\"{i} and {j} has cv_score {np.round(cv_score,4)}\")\n",
        "  score.append(cv_score)\n",
        "print(np.round(score,4))\n",
        "np.argmin(np.abs(np.round(score,4)))"
      ],
      "metadata": {
        "colab": {
          "base_uri": "https://localhost:8080/"
        },
        "id": "SEZ5ueE0HARH",
        "outputId": "e2240f2a-a121-4f7c-bb6f-4d391c158d41"
      },
      "execution_count": 6,
      "outputs": [
        {
          "output_type": "stream",
          "name": "stdout",
          "text": [
            "0 and 1 has cv_score -0.2213\n",
            "0 and 2 has cv_score -0.2131\n",
            "0 and 3 has cv_score -0.5105\n",
            "0 and 4 has cv_score -0.1236\n",
            "0 and 5 has cv_score -0.5306\n",
            "0 and 6 has cv_score -0.2716\n",
            "0 and 7 has cv_score -0.5926\n",
            "0 and 8 has cv_score -0.4298\n",
            "1 and 2 has cv_score -0.1823\n",
            "1 and 3 has cv_score -0.5587\n",
            "1 and 4 has cv_score -0.2427\n",
            "1 and 5 has cv_score -0.5603\n",
            "1 and 6 has cv_score -0.3226\n",
            "1 and 7 has cv_score -0.5906\n",
            "1 and 8 has cv_score -0.4593\n",
            "2 and 3 has cv_score -0.5323\n",
            "2 and 4 has cv_score -0.1692\n",
            "2 and 5 has cv_score -0.5611\n",
            "2 and 6 has cv_score -0.3156\n",
            "2 and 7 has cv_score -0.5821\n",
            "2 and 8 has cv_score -0.4436\n",
            "3 and 4 has cv_score -0.1598\n",
            "3 and 5 has cv_score -0.4972\n",
            "3 and 6 has cv_score -0.2855\n",
            "3 and 7 has cv_score -0.5053\n",
            "3 and 8 has cv_score -0.4163\n",
            "4 and 5 has cv_score -0.5671\n",
            "4 and 6 has cv_score -0.2384\n",
            "4 and 7 has cv_score -0.5951\n",
            "4 and 8 has cv_score -0.4504\n",
            "5 and 6 has cv_score -0.3203\n",
            "5 and 7 has cv_score -0.5626\n",
            "5 and 8 has cv_score -0.425\n",
            "6 and 7 has cv_score -0.6027\n",
            "6 and 8 has cv_score -0.4415\n",
            "7 and 8 has cv_score -0.3795\n",
            "[-0.2213 -0.2131 -0.5105 -0.1236 -0.5306 -0.2716 -0.5926 -0.4298 -0.1823\n",
            " -0.5587 -0.2427 -0.5603 -0.3226 -0.5906 -0.4593 -0.5323 -0.1692 -0.5611\n",
            " -0.3156 -0.5821 -0.4436 -0.1598 -0.4972 -0.2855 -0.5053 -0.4163 -0.5671\n",
            " -0.2384 -0.5951 -0.4504 -0.3203 -0.5626 -0.425  -0.6027 -0.4415 -0.3795]\n"
          ]
        },
        {
          "output_type": "execute_result",
          "data": {
            "text/plain": [
              "3"
            ]
          },
          "metadata": {},
          "execution_count": 6
        }
      ]
    },
    {
      "cell_type": "code",
      "source": [
        "np.abs(score)"
      ],
      "metadata": {
        "colab": {
          "base_uri": "https://localhost:8080/"
        },
        "id": "IV7KnO-8yDti",
        "outputId": "a8d05f18-b08d-49f5-d952-d91f33486358"
      },
      "execution_count": null,
      "outputs": [
        {
          "output_type": "execute_result",
          "data": {
            "text/plain": [
              "array([0.22130666, 0.21313326, 0.5104702 , 0.12357362, 0.53063084,\n",
              "       0.27162585, 0.59262408, 0.42979538, 0.18230718, 0.55874243,\n",
              "       0.24274158, 0.56025004, 0.32259493, 0.59061333, 0.45929376,\n",
              "       0.53233284, 0.16918724, 0.56110673, 0.31561202, 0.58211641,\n",
              "       0.44356114, 0.15975774, 0.49716751, 0.2855381 , 0.50525666,\n",
              "       0.41628284, 0.56713863, 0.23840028, 0.59506472, 0.45035642,\n",
              "       0.32033428, 0.56256065, 0.42502895, 0.60273476, 0.44152044,\n",
              "       0.37954023])"
            ]
          },
          "metadata": {},
          "execution_count": 124
        }
      ]
    },
    {
      "cell_type": "code",
      "source": [
        "np.min(np.abs(score))"
      ],
      "metadata": {
        "colab": {
          "base_uri": "https://localhost:8080/"
        },
        "id": "n8iKuv0dyIoU",
        "outputId": "08d06d50-cead-4291-8537-fc0dc617a5dc"
      },
      "execution_count": null,
      "outputs": [
        {
          "output_type": "execute_result",
          "data": {
            "text/plain": [
              "0.12357361573618852"
            ]
          },
          "metadata": {},
          "execution_count": 125
        }
      ]
    },
    {
      "cell_type": "code",
      "source": [
        "X=df_train.iloc[:,1]\n",
        "X"
      ],
      "metadata": {
        "colab": {
          "base_uri": "https://localhost:8080/"
        },
        "id": "ecgU0e9bLDs6",
        "outputId": "02e04fe7-e713-4de7-86b0-e7724861b8e0"
      },
      "execution_count": 7,
      "outputs": [
        {
          "output_type": "execute_result",
          "data": {
            "text/plain": [
              "0       -0.165620\n",
              "1        0.870736\n",
              "2        0.069915\n",
              "3        0.297600\n",
              "4        0.807926\n",
              "           ...   \n",
              "10425    0.588093\n",
              "10426   -0.338346\n",
              "10427   -0.000745\n",
              "10428    0.352558\n",
              "10429   -1.037102\n",
              "Name: 1, Length: 10430, dtype: float64"
            ]
          },
          "metadata": {},
          "execution_count": 7
        }
      ]
    },
    {
      "cell_type": "code",
      "source": [
        "X=np.array(df_train.iloc[:,1]).reshape(-1,1)\n",
        "X"
      ],
      "metadata": {
        "colab": {
          "base_uri": "https://localhost:8080/"
        },
        "id": "8FK5XpbILW4I",
        "outputId": "ddc60e23-f818-4a41-f1b0-de3083e67ac4"
      },
      "execution_count": null,
      "outputs": [
        {
          "output_type": "execute_result",
          "data": {
            "text/plain": [
              "array([[-1.656200e-01],\n",
              "       [ 8.707360e-01],\n",
              "       [ 6.991500e-02],\n",
              "       ...,\n",
              "       [-7.450000e-04],\n",
              "       [ 3.525580e-01],\n",
              "       [-1.037102e+00]])"
            ]
          },
          "metadata": {},
          "execution_count": 31
        }
      ]
    },
    {
      "cell_type": "code",
      "source": [
        "### mapping non-linearity by KNN REGRESSOR with k=5 WITH NEGATIVE MEDIAN ABSOLUTE ERROR"
      ],
      "metadata": {
        "id": "QJltQPPur5g5"
      },
      "execution_count": null,
      "outputs": []
    },
    {
      "cell_type": "code",
      "source": [
        "from sklearn.pipeline import make_pipeline\n",
        "from sklearn.preprocessing import StandardScaler\n",
        "from sklearn.neighbors import KNeighborsRegressor"
      ],
      "metadata": {
        "id": "MyyFwAYmqstH"
      },
      "execution_count": 8,
      "outputs": []
    },
    {
      "cell_type": "code",
      "source": [
        "knn_reg=make_pipeline(StandardScaler(),\n",
        "                          KNeighborsRegressor(n_neighbors=5))"
      ],
      "metadata": {
        "id": "vwXGpTwmrLEg"
      },
      "execution_count": null,
      "outputs": []
    },
    {
      "cell_type": "code",
      "source": [
        "score=[]\n",
        "for i , j in combinations(range(9),2):\n",
        "  cv_score=cross_val_score(knn_reg,X=np.array(df_train.iloc[:,i]).reshape(-1,1),y=df_train.iloc[:,j],cv=5,scoring='neg_median_absolute_error').mean()\n",
        "  print(f\"{i} and {j} has cv_score {np.round(cv_score,4)}\")\n",
        "  score.append(cv_score)\n",
        "print(np.round(score,4))\n",
        "np.argmin(np.abs(np.round(score,4)))"
      ],
      "metadata": {
        "colab": {
          "base_uri": "https://localhost:8080/"
        },
        "id": "AgCWa2VEqaIx",
        "outputId": "eeb1bf37-313a-4659-c4ab-647a93fd17d8"
      },
      "execution_count": null,
      "outputs": [
        {
          "output_type": "stream",
          "name": "stdout",
          "text": [
            "0 and 1 has cv_score -0.2344\n",
            "0 and 2 has cv_score -0.1881\n",
            "0 and 3 has cv_score -0.5366\n",
            "0 and 4 has cv_score -0.118\n",
            "0 and 5 has cv_score -0.6079\n",
            "0 and 6 has cv_score -0.3307\n",
            "0 and 7 has cv_score -0.6501\n",
            "0 and 8 has cv_score -0.5126\n",
            "1 and 2 has cv_score -0.1218\n",
            "1 and 3 has cv_score -0.5113\n",
            "1 and 4 has cv_score -0.1466\n",
            "1 and 5 has cv_score -0.6046\n",
            "1 and 6 has cv_score -0.3503\n",
            "1 and 7 has cv_score -0.6399\n",
            "1 and 8 has cv_score -0.5232\n",
            "2 and 3 has cv_score -0.5098\n",
            "2 and 4 has cv_score -0.0983\n",
            "2 and 5 has cv_score -0.6046\n",
            "2 and 6 has cv_score -0.3526\n",
            "2 and 7 has cv_score -0.6214\n",
            "2 and 8 has cv_score -0.5222\n",
            "3 and 4 has cv_score 0.0\n",
            "3 and 5 has cv_score -0.4601\n",
            "3 and 6 has cv_score -0.2658\n",
            "3 and 7 has cv_score -0.4859\n",
            "3 and 8 has cv_score -0.3642\n",
            "4 and 5 has cv_score -0.6063\n",
            "4 and 6 has cv_score -0.3166\n",
            "4 and 7 has cv_score -0.6361\n",
            "4 and 8 has cv_score -0.4665\n",
            "5 and 6 has cv_score -0.3609\n",
            "5 and 7 has cv_score -0.6361\n",
            "5 and 8 has cv_score -0.5532\n",
            "6 and 7 has cv_score -0.662\n",
            "6 and 8 has cv_score -0.5488\n",
            "7 and 8 has cv_score -0.4428\n",
            "[-0.2344 -0.1881 -0.5366 -0.118  -0.6079 -0.3307 -0.6501 -0.5126 -0.1218\n",
            " -0.5113 -0.1466 -0.6046 -0.3503 -0.6399 -0.5232 -0.5098 -0.0983 -0.6046\n",
            " -0.3526 -0.6214 -0.5222  0.     -0.4601 -0.2658 -0.4859 -0.3642 -0.6063\n",
            " -0.3166 -0.6361 -0.4665 -0.3609 -0.6361 -0.5532 -0.662  -0.5488 -0.4428]\n"
          ]
        },
        {
          "output_type": "execute_result",
          "data": {
            "text/plain": [
              "21"
            ]
          },
          "metadata": {},
          "execution_count": 111
        }
      ]
    },
    {
      "cell_type": "code",
      "source": [
        "cv_score"
      ],
      "metadata": {
        "colab": {
          "base_uri": "https://localhost:8080/"
        },
        "id": "oUdhp4spsJNn",
        "outputId": "67d57632-6def-4b3f-b781-f8ddc88ffab2"
      },
      "execution_count": null,
      "outputs": [
        {
          "output_type": "execute_result",
          "data": {
            "text/plain": [
              "-0.44277695999999994"
            ]
          },
          "metadata": {},
          "execution_count": 108
        }
      ]
    },
    {
      "cell_type": "code",
      "source": [
        "### mapping non-linearity with DT REG with NEGATIVE ROOT MEAN SQUARED ERROR"
      ],
      "metadata": {
        "id": "TOcEEhsmqF8I"
      },
      "execution_count": null,
      "outputs": []
    },
    {
      "cell_type": "code",
      "source": [
        "for i , j in combinations(range(9),2):\n",
        "  cv_score=cross_val_score(dt,X=np.array(df_train.iloc[:,i]).reshape(-1,1),y=df_train.iloc[:,j],cv=5,scoring='neg_root_mean_squared_error').mean()\n",
        "  print(f\"{i} and {j} has cv_score {np.round(cv_score,4)}\")"
      ],
      "metadata": {
        "colab": {
          "base_uri": "https://localhost:8080/"
        },
        "id": "H4A6ueqWLESs",
        "outputId": "08f94055-b2c0-4080-aba7-51582388b584"
      },
      "execution_count": null,
      "outputs": [
        {
          "output_type": "stream",
          "name": "stdout",
          "text": [
            "0 and 1 has cv_score -2.4936\n",
            "0 and 2 has cv_score -1.0148\n",
            "0 and 3 has cv_score -0.8359\n",
            "0 and 4 has cv_score -0.5213\n",
            "0 and 5 has cv_score -1.0366\n",
            "0 and 6 has cv_score -1.2048\n",
            "0 and 7 has cv_score -0.9673\n",
            "0 and 8 has cv_score -0.9688\n",
            "1 and 2 has cv_score -1.0061\n",
            "1 and 3 has cv_score -0.9086\n",
            "1 and 4 has cv_score -0.86\n",
            "1 and 5 has cv_score -1.0944\n",
            "1 and 6 has cv_score -1.2742\n",
            "1 and 7 has cv_score -0.986\n",
            "1 and 8 has cv_score -1.0554\n",
            "2 and 3 has cv_score -0.8933\n",
            "2 and 4 has cv_score -0.8666\n",
            "2 and 5 has cv_score -1.0679\n",
            "2 and 6 has cv_score -1.2331\n",
            "2 and 7 has cv_score -0.9633\n",
            "2 and 8 has cv_score -1.0337\n",
            "3 and 4 has cv_score -0.7109\n",
            "3 and 5 has cv_score -0.9859\n",
            "3 and 6 has cv_score -1.2205\n",
            "3 and 7 has cv_score -0.8667\n",
            "3 and 8 has cv_score -0.9516\n",
            "4 and 5 has cv_score -1.0558\n",
            "4 and 6 has cv_score -1.1693\n",
            "4 and 7 has cv_score -0.9814\n",
            "4 and 8 has cv_score -0.9987\n",
            "5 and 6 has cv_score -1.2557\n",
            "5 and 7 has cv_score -0.9765\n",
            "5 and 8 has cv_score -1.0501\n",
            "6 and 7 has cv_score -1.0209\n",
            "6 and 8 has cv_score -1.0403\n",
            "7 and 8 has cv_score -1.0138\n"
          ]
        }
      ]
    },
    {
      "cell_type": "code",
      "source": [
        "sns.scatterplot(data = df_train, x=df_train.iloc[:,0], \n",
        "                y=df_train.iloc[:,4], hue=10)"
      ],
      "metadata": {
        "colab": {
          "base_uri": "https://localhost:8080/",
          "height": 296
        },
        "id": "xK5N0525NUXI",
        "outputId": "5137880f-678b-413b-cdbb-02a71a68913b"
      },
      "execution_count": null,
      "outputs": [
        {
          "output_type": "execute_result",
          "data": {
            "text/plain": [
              "<matplotlib.axes._subplots.AxesSubplot at 0x7f4701322950>"
            ]
          },
          "metadata": {},
          "execution_count": 37
        },
        {
          "output_type": "display_data",
          "data": {
            "text/plain": [
              "<Figure size 432x288 with 1 Axes>"
            ],
            "image/png": "[encoded data removed]"
          },
          "metadata": {
            "needs_background": "light"
          }
        }
      ]
    },
    {
      "cell_type": "code",
      "source": [
        "from xgboost import XGBClassifier"
      ],
      "metadata": {
        "id": "PEm0a-ZPRF7b"
      },
      "execution_count": 9,
      "outputs": []
    },
    {
      "cell_type": "code",
      "source": [
        "xgb = XGBClassifier(n_estimators=3000, max_depth=1, \n",
        "                    learning_rate=0.01, booster='gbtree')"
      ],
      "metadata": {
        "id": "FWMzgsD-RGpr"
      },
      "execution_count": 10,
      "outputs": []
    },
    {
      "cell_type": "code",
      "source": [
        "xgb.fit(df_train.iloc[:,:-1],df_train.iloc[:,-1])"
      ],
      "metadata": {
        "colab": {
          "base_uri": "https://localhost:8080/"
        },
        "id": "LPH3jhF0R3XS",
        "outputId": "760ad2fa-9e14-4248-f571-f0f98a8ba200"
      },
      "execution_count": null,
      "outputs": [
        {
          "output_type": "execute_result",
          "data": {
            "text/plain": [
              "XGBClassifier(learning_rate=0.01, max_depth=1, n_estimators=3000,\n",
              "              objective='multi:softprob')"
            ]
          },
          "metadata": {},
          "execution_count": 42
        }
      ]
    },
    {
      "cell_type": "code",
      "source": [
        "df_train.iloc[:,:-1]"
      ],
      "metadata": {
        "colab": {
          "base_uri": "https://localhost:8080/",
          "height": 424
        },
        "id": "nqY64KOGSI6X",
        "outputId": "885281f2-1a09-4c5f-97b7-175f74123659"
      },
      "execution_count": null,
      "outputs": [
        {
          "output_type": "execute_result",
          "data": {
            "text/plain": [
              "              0         1         2         3         4         5         6  \\\n",
              "0      0.266074 -0.165620  0.320980  0.483299  0.172340  0.273364  0.371178   \n",
              "1      0.130292  0.870736 -3.210528  0.062493  0.261718  1.436060  1.465940   \n",
              "2     -0.116585  0.069915  0.068476 -0.783147  0.261718  0.439463 -0.081827   \n",
              "3      0.031541  0.297600 -3.210528 -0.583590 -0.721442 -0.307984  0.710932   \n",
              "4      0.229043  0.807926 -0.052442  0.082634  0.261718  0.148790  0.635431   \n",
              "...         ...       ...       ...       ...       ...       ...       ...   \n",
              "10425  0.080916  0.588093  0.015130  0.002250  0.261718 -0.557133  0.371178   \n",
              "10426  0.253730 -0.338346  0.352988 -1.154243  0.172340 -0.557133  0.257927   \n",
              "10427  0.229043 -0.000745  0.171611 -0.002793  0.261718  0.688613  0.295677   \n",
              "10428 -0.301743  0.352558  0.288973  1.638181  0.261718  0.688613  0.069175   \n",
              "10429 -0.104241 -1.037102  0.388552 -1.099311  0.172340 -0.307984  0.786433   \n",
              "\n",
              "              7         8         9  \n",
              "0      0.929823  0.251173  0.159345  \n",
              "1      0.636203  0.282354  0.515587  \n",
              "2     -0.888236 -0.123005  0.582939  \n",
              "3      1.051693  0.594169 -0.533994  \n",
              "4      0.051062  0.032902 -0.086652  \n",
              "...         ...       ...       ...  \n",
              "10425  0.932346  0.282354 -0.580141  \n",
              "10426  0.348428  0.032902 -0.527134  \n",
              "10427 -1.088486 -0.590727  0.580142  \n",
              "10428  0.502761  0.625350  0.718969  \n",
              "10429 -1.337547  0.999528 -0.551063  \n",
              "\n",
              "[10430 rows x 10 columns]"
            ],
            "text/html": [
              "\n",
              "  <div id=\"df-c561e53c-02af-4fbb-9df9-edebf6cb1cd7\">\n",
              "    <div class=\"colab-df-container\">\n",
              "      <div>\n",
              "<style scoped>\n",
              "    .dataframe tbody tr th:only-of-type {\n",
              "        vertical-align: middle;\n",
              "    }\n",
              "\n",
              "    .dataframe tbody tr th {\n",
              "        vertical-align: top;\n",
              "    }\n",
              "\n",
              "    .dataframe thead th {\n",
              "        text-align: right;\n",
              "    }\n",
              "</style>\n",
              "<table border=\"1\" class=\"dataframe\">\n",
              "  <thead>\n",
              "    <tr style=\"text-align: right;\">\n",
              "      <th></th>\n",
              "      <th>0</th>\n",
              "      <th>1</th>\n",
              "      <th>2</th>\n",
              "      <th>3</th>\n",
              "      <th>4</th>\n",
              "      <th>5</th>\n",
              "      <th>6</th>\n",
              "      <th>7</th>\n",
              "      <th>8</th>\n",
              "      <th>9</th>\n",
              "    </tr>\n",
              "  </thead>\n",
              "  <tbody>\n",
              "    <tr>\n",
              "      <th>0</th>\n",
              "      <td>0.266074</td>\n",
              "      <td>-0.165620</td>\n",
              "      <td>0.320980</td>\n",
              "      <td>0.483299</td>\n",
              "      <td>0.172340</td>\n",
              "      <td>0.273364</td>\n",
              "      <td>0.371178</td>\n",
              "      <td>0.929823</td>\n",
              "      <td>0.251173</td>\n",
              "      <td>0.159345</td>\n",
              "    </tr>\n",
              "    <tr>\n",
              "      <th>1</th>\n",
              "      <td>0.130292</td>\n",
              "      <td>0.870736</td>\n",
              "      <td>-3.210528</td>\n",
              "      <td>0.062493</td>\n",
              "      <td>0.261718</td>\n",
              "      <td>1.436060</td>\n",
              "      <td>1.465940</td>\n",
              "      <td>0.636203</td>\n",
              "      <td>0.282354</td>\n",
              "      <td>0.515587</td>\n",
              "    </tr>\n",
              "    <tr>\n",
              "      <th>2</th>\n",
              "      <td>-0.116585</td>\n",
              "      <td>0.069915</td>\n",
              "      <td>0.068476</td>\n",
              "      <td>-0.783147</td>\n",
              "      <td>0.261718</td>\n",
              "      <td>0.439463</td>\n",
              "      <td>-0.081827</td>\n",
              "      <td>-0.888236</td>\n",
              "      <td>-0.123005</td>\n",
              "      <td>0.582939</td>\n",
              "    </tr>\n",
              "    <tr>\n",
              "      <th>3</th>\n",
              "      <td>0.031541</td>\n",
              "      <td>0.297600</td>\n",
              "      <td>-3.210528</td>\n",
              "      <td>-0.583590</td>\n",
              "      <td>-0.721442</td>\n",
              "      <td>-0.307984</td>\n",
              "      <td>0.710932</td>\n",
              "      <td>1.051693</td>\n",
              "      <td>0.594169</td>\n",
              "      <td>-0.533994</td>\n",
              "    </tr>\n",
              "    <tr>\n",
              "      <th>4</th>\n",
              "      <td>0.229043</td>\n",
              "      <td>0.807926</td>\n",
              "      <td>-0.052442</td>\n",
              "      <td>0.082634</td>\n",
              "      <td>0.261718</td>\n",
              "      <td>0.148790</td>\n",
              "      <td>0.635431</td>\n",
              "      <td>0.051062</td>\n",
              "      <td>0.032902</td>\n",
              "      <td>-0.086652</td>\n",
              "    </tr>\n",
              "    <tr>\n",
              "      <th>...</th>\n",
              "      <td>...</td>\n",
              "      <td>...</td>\n",
              "      <td>...</td>\n",
              "      <td>...</td>\n",
              "      <td>...</td>\n",
              "      <td>...</td>\n",
              "      <td>...</td>\n",
              "      <td>...</td>\n",
              "      <td>...</td>\n",
              "      <td>...</td>\n",
              "    </tr>\n",
              "    <tr>\n",
              "      <th>10425</th>\n",
              "      <td>0.080916</td>\n",
              "      <td>0.588093</td>\n",
              "      <td>0.015130</td>\n",
              "      <td>0.002250</td>\n",
              "      <td>0.261718</td>\n",
              "      <td>-0.557133</td>\n",
              "      <td>0.371178</td>\n",
              "      <td>0.932346</td>\n",
              "      <td>0.282354</td>\n",
              "      <td>-0.580141</td>\n",
              "    </tr>\n",
              "    <tr>\n",
              "      <th>10426</th>\n",
              "      <td>0.253730</td>\n",
              "      <td>-0.338346</td>\n",
              "      <td>0.352988</td>\n",
              "      <td>-1.154243</td>\n",
              "      <td>0.172340</td>\n",
              "      <td>-0.557133</td>\n",
              "      <td>0.257927</td>\n",
              "      <td>0.348428</td>\n",
              "      <td>0.032902</td>\n",
              "      <td>-0.527134</td>\n",
              "    </tr>\n",
              "    <tr>\n",
              "      <th>10427</th>\n",
              "      <td>0.229043</td>\n",
              "      <td>-0.000745</td>\n",
              "      <td>0.171611</td>\n",
              "      <td>-0.002793</td>\n",
              "      <td>0.261718</td>\n",
              "      <td>0.688613</td>\n",
              "      <td>0.295677</td>\n",
              "      <td>-1.088486</td>\n",
              "      <td>-0.590727</td>\n",
              "      <td>0.580142</td>\n",
              "    </tr>\n",
              "    <tr>\n",
              "      <th>10428</th>\n",
              "      <td>-0.301743</td>\n",
              "      <td>0.352558</td>\n",
              "      <td>0.288973</td>\n",
              "      <td>1.638181</td>\n",
              "      <td>0.261718</td>\n",
              "      <td>0.688613</td>\n",
              "      <td>0.069175</td>\n",
              "      <td>0.502761</td>\n",
              "      <td>0.625350</td>\n",
              "      <td>0.718969</td>\n",
              "    </tr>\n",
              "    <tr>\n",
              "      <th>10429</th>\n",
              "      <td>-0.104241</td>\n",
              "      <td>-1.037102</td>\n",
              "      <td>0.388552</td>\n",
              "      <td>-1.099311</td>\n",
              "      <td>0.172340</td>\n",
              "      <td>-0.307984</td>\n",
              "      <td>0.786433</td>\n",
              "      <td>-1.337547</td>\n",
              "      <td>0.999528</td>\n",
              "      <td>-0.551063</td>\n",
              "    </tr>\n",
              "  </tbody>\n",
              "</table>\n",
              "<p>10430 rows × 10 columns</p>\n",
              "</div>\n",
              "      <button class=\"colab-df-convert\" onclick=\"convertToInteractive('df-c561e53c-02af-4fbb-9df9-edebf6cb1cd7')\"\n",
              "              title=\"Convert this dataframe to an interactive table.\"\n",
              "              style=\"display:none;\">\n",
              "        \n",
              "  <svg xmlns=\"http://www.w3.org/2000/svg\" height=\"24px\"viewBox=\"0 0 24 24\"\n",
              "       width=\"24px\">\n",
              "    <path d=\"M0 0h24v24H0V0z\" fill=\"none\"/>\n",
              "    <path d=\"M18.56 5.44l.94 2.06.94-2.06 2.06-.94-2.06-.94-.94-2.06-.94 2.06-2.06.94zm-11 1L8.5 8.5l.94-2.06 2.06-.94-2.06-.94L8.5 2.5l-.94 2.06-2.06.94zm10 10l.94 2.06.94-2.06 2.06-.94-2.06-.94-.94-2.06-.94 2.06-2.06.94z\"/><path d=\"M17.41 7.96l-1.37-1.37c-.4-.4-.92-.59-1.43-.59-.52 0-1.04.2-1.43.59L10.3 9.45l-7.72 7.72c-.78.78-.78 2.05 0 2.83L4 21.41c.39.39.9.59 1.41.59.51 0 1.02-.2 1.41-.59l7.78-7.78 2.81-2.81c.8-.78.8-2.07 0-2.86zM5.41 20L4 18.59l7.72-7.72 1.47 1.35L5.41 20z\"/>\n",
              "  </svg>\n",
              "      </button>\n",
              "      \n",
              "  <style>\n",
              "    .colab-df-container {\n",
              "      display:flex;\n",
              "      flex-wrap:wrap;\n",
              "      gap: 12px;\n",
              "    }\n",
              "\n",
              "    .colab-df-convert {\n",
              "      background-color: #E8F0FE;\n",
              "      border: none;\n",
              "      border-radius: 50%;\n",
              "      cursor: pointer;\n",
              "      display: none;\n",
              "      fill: #1967D2;\n",
              "      height: 32px;\n",
              "      padding: 0 0 0 0;\n",
              "      width: 32px;\n",
              "    }\n",
              "\n",
              "    .colab-df-convert:hover {\n",
              "      background-color: #E2EBFA;\n",
              "      box-shadow: 0px 1px 2px rgba(60, 64, 67, 0.3), 0px 1px 3px 1px rgba(60, 64, 67, 0.15);\n",
              "      fill: #174EA6;\n",
              "    }\n",
              "\n",
              "    [theme=dark] .colab-df-convert {\n",
              "      background-color: #3B4455;\n",
              "      fill: #D2E3FC;\n",
              "    }\n",
              "\n",
              "    [theme=dark] .colab-df-convert:hover {\n",
              "      background-color: #434B5C;\n",
              "      box-shadow: 0px 1px 3px 1px rgba(0, 0, 0, 0.15);\n",
              "      filter: drop-shadow(0px 1px 2px rgba(0, 0, 0, 0.3));\n",
              "      fill: #FFFFFF;\n",
              "    }\n",
              "  </style>\n",
              "\n",
              "      <script>\n",
              "        const buttonEl =\n",
              "          document.querySelector('#df-c561e53c-02af-4fbb-9df9-edebf6cb1cd7 button.colab-df-convert');\n",
              "        buttonEl.style.display =\n",
              "          google.colab.kernel.accessAllowed ? 'block' : 'none';\n",
              "\n",
              "        async function convertToInteractive(key) {\n",
              "          const element = document.querySelector('#df-c561e53c-02af-4fbb-9df9-edebf6cb1cd7');\n",
              "          const dataTable =\n",
              "            await google.colab.kernel.invokeFunction('convertToInteractive',\n",
              "                                                     [key], {});\n",
              "          if (!dataTable) return;\n",
              "\n",
              "          const docLinkHtml = 'Like what you see? Visit the ' +\n",
              "            '<a target=\"_blank\" href=https://colab.research.google.com/notebooks/data_table.ipynb>data table notebook</a>'\n",
              "            + ' to learn more about interactive tables.';\n",
              "          element.innerHTML = '';\n",
              "          dataTable['output_type'] = 'display_data';\n",
              "          await google.colab.output.renderOutput(dataTable, element);\n",
              "          const docLink = document.createElement('div');\n",
              "          docLink.innerHTML = docLinkHtml;\n",
              "          element.appendChild(docLink);\n",
              "        }\n",
              "      </script>\n",
              "    </div>\n",
              "  </div>\n",
              "  "
            ]
          },
          "metadata": {},
          "execution_count": 40
        }
      ]
    },
    {
      "cell_type": "code",
      "source": [
        "df_train.iloc[:,-1]"
      ],
      "metadata": {
        "colab": {
          "base_uri": "https://localhost:8080/"
        },
        "id": "wAZup3E2SJri",
        "outputId": "8d1c9ee1-38ce-4392-e578-1fc9b3814fcb"
      },
      "execution_count": null,
      "outputs": [
        {
          "output_type": "execute_result",
          "data": {
            "text/plain": [
              "0        A\n",
              "1        A\n",
              "2        A\n",
              "3        A\n",
              "4        F\n",
              "        ..\n",
              "10425    F\n",
              "10426    F\n",
              "10427    A\n",
              "10428    E\n",
              "10429    X\n",
              "Name: 10, Length: 10430, dtype: object"
            ]
          },
          "metadata": {},
          "execution_count": 41
        }
      ]
    },
    {
      "cell_type": "code",
      "source": [
        "### cohen kappa"
      ],
      "metadata": {
        "id": "7H8gQQtbimaP"
      },
      "execution_count": null,
      "outputs": []
    },
    {
      "cell_type": "code",
      "source": [
        "from sklearn.metrics import cohen_kappa_score"
      ],
      "metadata": {
        "id": "XPB4D0TPSMRC"
      },
      "execution_count": null,
      "outputs": []
    },
    {
      "cell_type": "code",
      "source": [
        "cohen_kappa_score(df_test.iloc[:,-1],xgb.predict(df_test.iloc[:,:-1]))"
      ],
      "metadata": {
        "colab": {
          "base_uri": "https://localhost:8080/"
        },
        "id": "Vp9eHuVxSbL_",
        "outputId": "1acad688-ecf8-4f7e-eb0d-d4d252976087"
      },
      "execution_count": null,
      "outputs": [
        {
          "output_type": "execute_result",
          "data": {
            "text/plain": [
              "0.6704581464333796"
            ]
          },
          "metadata": {},
          "execution_count": 46
        }
      ]
    },
    {
      "cell_type": "code",
      "source": [
        "cv_score=cross_val_score(xgb,df_test.iloc[:,:-1],df_test.iloc[:,-1],scoring=make_scorer(cohen_kappa_score),cv=5,n_jobs=-1)"
      ],
      "metadata": {
        "id": "UmkX93s6TTrJ"
      },
      "execution_count": null,
      "outputs": []
    },
    {
      "cell_type": "code",
      "source": [
        "cv_score"
      ],
      "metadata": {
        "colab": {
          "base_uri": "https://localhost:8080/"
        },
        "id": "N1TGFw4qiOD3",
        "outputId": "ad9c7a91-357f-4c7b-b911-20ae08038a99"
      },
      "execution_count": null,
      "outputs": [
        {
          "output_type": "execute_result",
          "data": {
            "text/plain": [
              "array([0.65969896, 0.67896569, 0.67026109, 0.68352469, 0.64729249])"
            ]
          },
          "metadata": {},
          "execution_count": 76
        }
      ]
    },
    {
      "cell_type": "code",
      "source": [
        "cv_score.mean()"
      ],
      "metadata": {
        "colab": {
          "base_uri": "https://localhost:8080/"
        },
        "id": "tmj6maTQiSYy",
        "outputId": "6d5e8707-3ab3-4f1a-cedd-70f16c66ea98"
      },
      "execution_count": null,
      "outputs": [
        {
          "output_type": "execute_result",
          "data": {
            "text/plain": [
              "0.6679485852287477"
            ]
          },
          "metadata": {},
          "execution_count": 77
        }
      ]
    },
    {
      "cell_type": "code",
      "source": [
        "### confusion matrix"
      ],
      "metadata": {
        "id": "uWtsPE4jlP28"
      },
      "execution_count": null,
      "outputs": []
    },
    {
      "cell_type": "code",
      "source": [
        "from sklearn.metrics import confusion_matrix"
      ],
      "metadata": {
        "id": "IFRsF1axUmlB"
      },
      "execution_count": null,
      "outputs": []
    },
    {
      "cell_type": "code",
      "source": [
        "pred = xgb.predict(df_test.iloc[:,:-1])"
      ],
      "metadata": {
        "id": "yVWTGngfU9ji"
      },
      "execution_count": null,
      "outputs": []
    },
    {
      "cell_type": "code",
      "source": [
        "pd.DataFrame(confusion_matrix(df_test.iloc[:,10],pred))"
      ],
      "metadata": {
        "colab": {
          "base_uri": "https://localhost:8080/",
          "height": 426
        },
        "id": "uiwIyR72U-lb",
        "outputId": "c73d82a9-70cc-4e16-a8c1-274d3d884473"
      },
      "execution_count": null,
      "outputs": [
        {
          "output_type": "execute_result",
          "data": {
            "text/plain": [
              "      0   1   2    3    4    5    6    7    8   9    10   11\n",
              "0   3847   0   0   31  115  229   32   29    1   0    2    0\n",
              "1      0   4   0    0    0    0    0    0    0   0    1    0\n",
              "2     30   0  46    0   18    9    0    0    0   0    0    0\n",
              "3     32   0   0  252   53    9    0    6    0   0    1    0\n",
              "4    181   0   0   21  785   39   10   44    1   0   13    1\n",
              "5   1054   0   0    0   22  839   25   22    0   0    0    0\n",
              "6    120   0   0    0   10   32  277    8    0   0    0    0\n",
              "7    125   0   0    0   10   21   13  351    0   0    0    0\n",
              "8     14   0   0    0    0    1    0    0  809   2    1    5\n",
              "9     12   0   0    0    0    0    0    0    0  32    1    0\n",
              "10    39   0   0   12   34    3    0    0    0   0  417   17\n",
              "11    12   0   3    0    2    0    0    0    0   0   15  235"
            ],
            "text/html": [
              "\n",
              "  <div id=\"df-582dc291-18d0-4def-ae5f-00a2f28004fc\">\n",
              "    <div class=\"colab-df-container\">\n",
              "      <div>\n",
              "<style scoped>\n",
              "    .dataframe tbody tr th:only-of-type {\n",
              "        vertical-align: middle;\n",
              "    }\n",
              "\n",
              "    .dataframe tbody tr th {\n",
              "        vertical-align: top;\n",
              "    }\n",
              "\n",
              "    .dataframe thead th {\n",
              "        text-align: right;\n",
              "    }\n",
              "</style>\n",
              "<table border=\"1\" class=\"dataframe\">\n",
              "  <thead>\n",
              "    <tr style=\"text-align: right;\">\n",
              "      <th></th>\n",
              "      <th>0</th>\n",
              "      <th>1</th>\n",
              "      <th>2</th>\n",
              "      <th>3</th>\n",
              "      <th>4</th>\n",
              "      <th>5</th>\n",
              "      <th>6</th>\n",
              "      <th>7</th>\n",
              "      <th>8</th>\n",
              "      <th>9</th>\n",
              "      <th>10</th>\n",
              "      <th>11</th>\n",
              "    </tr>\n",
              "  </thead>\n",
              "  <tbody>\n",
              "    <tr>\n",
              "      <th>0</th>\n",
              "      <td>3847</td>\n",
              "      <td>0</td>\n",
              "      <td>0</td>\n",
              "      <td>31</td>\n",
              "      <td>115</td>\n",
              "      <td>229</td>\n",
              "      <td>32</td>\n",
              "      <td>29</td>\n",
              "      <td>1</td>\n",
              "      <td>0</td>\n",
              "      <td>2</td>\n",
              "      <td>0</td>\n",
              "    </tr>\n",
              "    <tr>\n",
              "      <th>1</th>\n",
              "      <td>0</td>\n",
              "      <td>4</td>\n",
              "      <td>0</td>\n",
              "      <td>0</td>\n",
              "      <td>0</td>\n",
              "      <td>0</td>\n",
              "      <td>0</td>\n",
              "      <td>0</td>\n",
              "      <td>0</td>\n",
              "      <td>0</td>\n",
              "      <td>1</td>\n",
              "      <td>0</td>\n",
              "    </tr>\n",
              "    <tr>\n",
              "      <th>2</th>\n",
              "      <td>30</td>\n",
              "      <td>0</td>\n",
              "      <td>46</td>\n",
              "      <td>0</td>\n",
              "      <td>18</td>\n",
              "      <td>9</td>\n",
              "      <td>0</td>\n",
              "      <td>0</td>\n",
              "      <td>0</td>\n",
              "      <td>0</td>\n",
              "      <td>0</td>\n",
              "      <td>0</td>\n",
              "    </tr>\n",
              "    <tr>\n",
              "      <th>3</th>\n",
              "      <td>32</td>\n",
              "      <td>0</td>\n",
              "      <td>0</td>\n",
              "      <td>252</td>\n",
              "      <td>53</td>\n",
              "      <td>9</td>\n",
              "      <td>0</td>\n",
              "      <td>6</td>\n",
              "      <td>0</td>\n",
              "      <td>0</td>\n",
              "      <td>1</td>\n",
              "      <td>0</td>\n",
              "    </tr>\n",
              "    <tr>\n",
              "      <th>4</th>\n",
              "      <td>181</td>\n",
              "      <td>0</td>\n",
              "      <td>0</td>\n",
              "      <td>21</td>\n",
              "      <td>785</td>\n",
              "      <td>39</td>\n",
              "      <td>10</td>\n",
              "      <td>44</td>\n",
              "      <td>1</td>\n",
              "      <td>0</td>\n",
              "      <td>13</td>\n",
              "      <td>1</td>\n",
              "    </tr>\n",
              "    <tr>\n",
              "      <th>5</th>\n",
              "      <td>1054</td>\n",
              "      <td>0</td>\n",
              "      <td>0</td>\n",
              "      <td>0</td>\n",
              "      <td>22</td>\n",
              "      <td>839</td>\n",
              "      <td>25</td>\n",
              "      <td>22</td>\n",
              "      <td>0</td>\n",
              "      <td>0</td>\n",
              "      <td>0</td>\n",
              "      <td>0</td>\n",
              "    </tr>\n",
              "    <tr>\n",
              "      <th>6</th>\n",
              "      <td>120</td>\n",
              "      <td>0</td>\n",
              "      <td>0</td>\n",
              "      <td>0</td>\n",
              "      <td>10</td>\n",
              "      <td>32</td>\n",
              "      <td>277</td>\n",
              "      <td>8</td>\n",
              "      <td>0</td>\n",
              "      <td>0</td>\n",
              "      <td>0</td>\n",
              "      <td>0</td>\n",
              "    </tr>\n",
              "    <tr>\n",
              "      <th>7</th>\n",
              "      <td>125</td>\n",
              "      <td>0</td>\n",
              "      <td>0</td>\n",
              "      <td>0</td>\n",
              "      <td>10</td>\n",
              "      <td>21</td>\n",
              "      <td>13</td>\n",
              "      <td>351</td>\n",
              "      <td>0</td>\n",
              "      <td>0</td>\n",
              "      <td>0</td>\n",
              "      <td>0</td>\n",
              "    </tr>\n",
              "    <tr>\n",
              "      <th>8</th>\n",
              "      <td>14</td>\n",
              "      <td>0</td>\n",
              "      <td>0</td>\n",
              "      <td>0</td>\n",
              "      <td>0</td>\n",
              "      <td>1</td>\n",
              "      <td>0</td>\n",
              "      <td>0</td>\n",
              "      <td>809</td>\n",
              "      <td>2</td>\n",
              "      <td>1</td>\n",
              "      <td>5</td>\n",
              "    </tr>\n",
              "    <tr>\n",
              "      <th>9</th>\n",
              "      <td>12</td>\n",
              "      <td>0</td>\n",
              "      <td>0</td>\n",
              "      <td>0</td>\n",
              "      <td>0</td>\n",
              "      <td>0</td>\n",
              "      <td>0</td>\n",
              "      <td>0</td>\n",
              "      <td>0</td>\n",
              "      <td>32</td>\n",
              "      <td>1</td>\n",
              "      <td>0</td>\n",
              "    </tr>\n",
              "    <tr>\n",
              "      <th>10</th>\n",
              "      <td>39</td>\n",
              "      <td>0</td>\n",
              "      <td>0</td>\n",
              "      <td>12</td>\n",
              "      <td>34</td>\n",
              "      <td>3</td>\n",
              "      <td>0</td>\n",
              "      <td>0</td>\n",
              "      <td>0</td>\n",
              "      <td>0</td>\n",
              "      <td>417</td>\n",
              "      <td>17</td>\n",
              "    </tr>\n",
              "    <tr>\n",
              "      <th>11</th>\n",
              "      <td>12</td>\n",
              "      <td>0</td>\n",
              "      <td>3</td>\n",
              "      <td>0</td>\n",
              "      <td>2</td>\n",
              "      <td>0</td>\n",
              "      <td>0</td>\n",
              "      <td>0</td>\n",
              "      <td>0</td>\n",
              "      <td>0</td>\n",
              "      <td>15</td>\n",
              "      <td>235</td>\n",
              "    </tr>\n",
              "  </tbody>\n",
              "</table>\n",
              "</div>\n",
              "      <button class=\"colab-df-convert\" onclick=\"convertToInteractive('df-582dc291-18d0-4def-ae5f-00a2f28004fc')\"\n",
              "              title=\"Convert this dataframe to an interactive table.\"\n",
              "              style=\"display:none;\">\n",
              "        \n",
              "  <svg xmlns=\"http://www.w3.org/2000/svg\" height=\"24px\"viewBox=\"0 0 24 24\"\n",
              "       width=\"24px\">\n",
              "    <path d=\"M0 0h24v24H0V0z\" fill=\"none\"/>\n",
              "    <path d=\"M18.56 5.44l.94 2.06.94-2.06 2.06-.94-2.06-.94-.94-2.06-.94 2.06-2.06.94zm-11 1L8.5 8.5l.94-2.06 2.06-.94-2.06-.94L8.5 2.5l-.94 2.06-2.06.94zm10 10l.94 2.06.94-2.06 2.06-.94-2.06-.94-.94-2.06-.94 2.06-2.06.94z\"/><path d=\"M17.41 7.96l-1.37-1.37c-.4-.4-.92-.59-1.43-.59-.52 0-1.04.2-1.43.59L10.3 9.45l-7.72 7.72c-.78.78-.78 2.05 0 2.83L4 21.41c.39.39.9.59 1.41.59.51 0 1.02-.2 1.41-.59l7.78-7.78 2.81-2.81c.8-.78.8-2.07 0-2.86zM5.41 20L4 18.59l7.72-7.72 1.47 1.35L5.41 20z\"/>\n",
              "  </svg>\n",
              "      </button>\n",
              "      \n",
              "  <style>\n",
              "    .colab-df-container {\n",
              "      display:flex;\n",
              "      flex-wrap:wrap;\n",
              "      gap: 12px;\n",
              "    }\n",
              "\n",
              "    .colab-df-convert {\n",
              "      background-color: #E8F0FE;\n",
              "      border: none;\n",
              "      border-radius: 50%;\n",
              "      cursor: pointer;\n",
              "      display: none;\n",
              "      fill: #1967D2;\n",
              "      height: 32px;\n",
              "      padding: 0 0 0 0;\n",
              "      width: 32px;\n",
              "    }\n",
              "\n",
              "    .colab-df-convert:hover {\n",
              "      background-color: #E2EBFA;\n",
              "      box-shadow: 0px 1px 2px rgba(60, 64, 67, 0.3), 0px 1px 3px 1px rgba(60, 64, 67, 0.15);\n",
              "      fill: #174EA6;\n",
              "    }\n",
              "\n",
              "    [theme=dark] .colab-df-convert {\n",
              "      background-color: #3B4455;\n",
              "      fill: #D2E3FC;\n",
              "    }\n",
              "\n",
              "    [theme=dark] .colab-df-convert:hover {\n",
              "      background-color: #434B5C;\n",
              "      box-shadow: 0px 1px 3px 1px rgba(0, 0, 0, 0.15);\n",
              "      filter: drop-shadow(0px 1px 2px rgba(0, 0, 0, 0.3));\n",
              "      fill: #FFFFFF;\n",
              "    }\n",
              "  </style>\n",
              "\n",
              "      <script>\n",
              "        const buttonEl =\n",
              "          document.querySelector('#df-582dc291-18d0-4def-ae5f-00a2f28004fc button.colab-df-convert');\n",
              "        buttonEl.style.display =\n",
              "          google.colab.kernel.accessAllowed ? 'block' : 'none';\n",
              "\n",
              "        async function convertToInteractive(key) {\n",
              "          const element = document.querySelector('#df-582dc291-18d0-4def-ae5f-00a2f28004fc');\n",
              "          const dataTable =\n",
              "            await google.colab.kernel.invokeFunction('convertToInteractive',\n",
              "                                                     [key], {});\n",
              "          if (!dataTable) return;\n",
              "\n",
              "          const docLinkHtml = 'Like what you see? Visit the ' +\n",
              "            '<a target=\"_blank\" href=https://colab.research.google.com/notebooks/data_table.ipynb>data table notebook</a>'\n",
              "            + ' to learn more about interactive tables.';\n",
              "          element.innerHTML = '';\n",
              "          dataTable['output_type'] = 'display_data';\n",
              "          await google.colab.output.renderOutput(dataTable, element);\n",
              "          const docLink = document.createElement('div');\n",
              "          docLink.innerHTML = docLinkHtml;\n",
              "          element.appendChild(docLink);\n",
              "        }\n",
              "      </script>\n",
              "    </div>\n",
              "  </div>\n",
              "  "
            ]
          },
          "metadata": {},
          "execution_count": 50
        }
      ]
    },
    {
      "cell_type": "code",
      "source": [
        "### categorical cross entropy"
      ],
      "metadata": {
        "id": "5M1NnyKIlT5B"
      },
      "execution_count": null,
      "outputs": []
    },
    {
      "cell_type": "code",
      "source": [
        "from sklearn.linear_model import LogisticRegression"
      ],
      "metadata": {
        "id": "F66AcIrtlXhm"
      },
      "execution_count": null,
      "outputs": []
    },
    {
      "cell_type": "code",
      "source": [
        "lgr = LogisticRegression(random_state=42)"
      ],
      "metadata": {
        "id": "STnqf-7OllNy"
      },
      "execution_count": null,
      "outputs": []
    },
    {
      "cell_type": "code",
      "source": [
        "lgr.fit(df_train.iloc[:,:-1],df_train.iloc[:,-1])"
      ],
      "metadata": {
        "colab": {
          "base_uri": "https://localhost:8080/"
        },
        "id": "HMbkOyxnlljt",
        "outputId": "2ede9b67-3d2c-46e0-a9b1-242bc5d7e6fa"
      },
      "execution_count": null,
      "outputs": [
        {
          "output_type": "execute_result",
          "data": {
            "text/plain": [
              "LogisticRegression(random_state=42)"
            ]
          },
          "metadata": {},
          "execution_count": 83
        }
      ]
    },
    {
      "cell_type": "code",
      "source": [
        "lgr.predict(df_test.iloc[:,:-1])"
      ],
      "metadata": {
        "colab": {
          "base_uri": "https://localhost:8080/"
        },
        "id": "AScBcgFxllm8",
        "outputId": "967e31ec-b1cf-4c1b-ff5d-7d2b20e9e3d5"
      },
      "execution_count": null,
      "outputs": [
        {
          "output_type": "execute_result",
          "data": {
            "text/plain": [
              "array(['W', 'X', 'I', ..., 'A', 'A', 'A'], dtype=object)"
            ]
          },
          "metadata": {},
          "execution_count": 84
        }
      ]
    },
    {
      "cell_type": "code",
      "source": [
        "lgr.score(df_test.iloc[:,:-1],df_test.iloc[:,-1])"
      ],
      "metadata": {
        "colab": {
          "base_uri": "https://localhost:8080/"
        },
        "id": "R-levFP7llp5",
        "outputId": "18a4c66a-01c0-4d6f-96d4-4c6df9f6f13f"
      },
      "execution_count": null,
      "outputs": [
        {
          "output_type": "execute_result",
          "data": {
            "text/plain": [
              "0.5608891443901505"
            ]
          },
          "metadata": {},
          "execution_count": 85
        }
      ]
    },
    {
      "cell_type": "code",
      "source": [
        "lgr.predict_proba(df_test.iloc[:,:-1])"
      ],
      "metadata": {
        "colab": {
          "base_uri": "https://localhost:8080/"
        },
        "id": "3F-ody85llsV",
        "outputId": "ceaa144d-a6d4-446a-dc2c-32b4f3654448"
      },
      "execution_count": null,
      "outputs": [
        {
          "output_type": "execute_result",
          "data": {
            "text/plain": [
              "array([[1.83209332e-01, 9.92511574e-04, 3.69434161e-03, ...,\n",
              "        3.92506575e-01, 1.98155872e-01, 2.40846783e-02],\n",
              "       [2.05421206e-02, 3.75643220e-04, 1.05805140e-02, ...,\n",
              "        6.12723351e-05, 4.96491511e-01, 3.37153536e-03],\n",
              "       [9.21337494e-02, 1.28827235e-04, 9.85282950e-03, ...,\n",
              "        1.43469612e-05, 3.21690062e-03, 6.83126986e-04],\n",
              "       ...,\n",
              "       [6.28925576e-01, 2.38946704e-04, 5.32223565e-03, ...,\n",
              "        3.25514883e-03, 2.45173389e-03, 1.58614119e-03],\n",
              "       [3.48188434e-01, 4.39933836e-04, 1.76383293e-02, ...,\n",
              "        4.65614624e-04, 7.92492773e-04, 1.33730020e-02],\n",
              "       [2.78549369e-01, 3.07582157e-04, 1.66371672e-02, ...,\n",
              "        3.47046074e-04, 1.99410400e-03, 7.59517411e-03]])"
            ]
          },
          "metadata": {},
          "execution_count": 86
        }
      ]
    },
    {
      "cell_type": "code",
      "source": [
        "xgb = XGBClassifier(n_estimators=3000, max_depth=1, \n",
        "                    learning_rate=0.01, booster='gbtree')"
      ],
      "metadata": {
        "id": "ScMVXzCalluq"
      },
      "execution_count": null,
      "outputs": []
    },
    {
      "cell_type": "code",
      "source": [
        "xgb.fit(df_train.iloc[:,:-1],df_train.iloc[:,-1])"
      ],
      "metadata": {
        "colab": {
          "base_uri": "https://localhost:8080/"
        },
        "id": "q9WRy50Mllw0",
        "outputId": "d08490bd-529f-4a5e-8430-7f759132f100"
      },
      "execution_count": null,
      "outputs": [
        {
          "output_type": "execute_result",
          "data": {
            "text/plain": [
              "XGBClassifier(learning_rate=0.01, max_depth=1, n_estimators=3000,\n",
              "              objective='multi:softprob')"
            ]
          },
          "metadata": {},
          "execution_count": 88
        }
      ]
    },
    {
      "cell_type": "code",
      "source": [
        "xgb.predict(df_test.iloc[:,:-1])"
      ],
      "metadata": {
        "colab": {
          "base_uri": "https://localhost:8080/"
        },
        "id": "ANS4qatvnC1m",
        "outputId": "7e69c6de-72db-45c0-a73c-63d6b50b01de"
      },
      "execution_count": null,
      "outputs": [
        {
          "output_type": "execute_result",
          "data": {
            "text/plain": [
              "array(['W', 'X', 'I', ..., 'A', 'F', 'H'], dtype=object)"
            ]
          },
          "metadata": {},
          "execution_count": 89
        }
      ]
    },
    {
      "cell_type": "code",
      "source": [
        "pred=xgb.predict_proba(df_test.iloc[:,:-1])"
      ],
      "metadata": {
        "id": "wG3R7OtxnGKC"
      },
      "execution_count": null,
      "outputs": []
    },
    {
      "cell_type": "code",
      "source": [
        "pred"
      ],
      "metadata": {
        "colab": {
          "base_uri": "https://localhost:8080/"
        },
        "id": "J7a58hSS0Ol5",
        "outputId": "ad88d4a6-3ee0-4165-8ae4-556982a4581c"
      },
      "execution_count": null,
      "outputs": [
        {
          "output_type": "execute_result",
          "data": {
            "text/plain": [
              "array([[3.57696623e-01, 6.74503535e-05, 1.15742011e-03, ...,\n",
              "        5.69414318e-01, 1.34424847e-02, 6.00467110e-03],\n",
              "       [3.02706867e-01, 2.65928596e-04, 2.10878160e-03, ...,\n",
              "        2.10295038e-04, 5.44125259e-01, 6.91035436e-03],\n",
              "       [4.63087350e-01, 2.92907248e-06, 1.22880680e-03, ...,\n",
              "        1.48765748e-05, 8.90149735e-03, 1.10214890e-03],\n",
              "       ...,\n",
              "       [3.75260532e-01, 4.26015722e-05, 6.29960618e-04, ...,\n",
              "        2.47017364e-04, 8.93659948e-04, 3.18040280e-03],\n",
              "       [2.42322788e-01, 3.27921703e-06, 6.62550854e-04, ...,\n",
              "        1.01548314e-04, 3.36002733e-04, 1.83503167e-03],\n",
              "       [2.97184795e-01, 2.35380912e-06, 2.64060247e-04, ...,\n",
              "        2.72351113e-04, 8.38360225e-04, 1.17380382e-03]], dtype=float32)"
            ]
          },
          "metadata": {},
          "execution_count": 132
        }
      ]
    },
    {
      "cell_type": "code",
      "source": [
        "pred[0]"
      ],
      "metadata": {
        "colab": {
          "base_uri": "https://localhost:8080/"
        },
        "id": "LVXHBPfu2MUl",
        "outputId": "4a6ff548-5beb-479b-d7d5-37a60fb01db5"
      },
      "execution_count": null,
      "outputs": [
        {
          "output_type": "execute_result",
          "data": {
            "text/plain": [
              "array([3.5769662e-01, 6.7450354e-05, 1.1574201e-03, 9.0917846e-04,\n",
              "       3.3284046e-02, 1.1482230e-02, 4.6475921e-03, 4.5620417e-04,\n",
              "       1.4377646e-03, 5.6941432e-01, 1.3442485e-02, 6.0046711e-03],\n",
              "      dtype=float32)"
            ]
          },
          "metadata": {},
          "execution_count": 137
        }
      ]
    },
    {
      "cell_type": "code",
      "source": [
        "-np.log(pred[0])"
      ],
      "metadata": {
        "colab": {
          "base_uri": "https://localhost:8080/"
        },
        "id": "H4v1W7Wr2UBh",
        "outputId": "b34377d5-986f-4313-b142-13b11a5f08b4"
      },
      "execution_count": null,
      "outputs": [
        {
          "output_type": "execute_result",
          "data": {
            "text/plain": [
              "array([1.0280701 , 9.604118  , 6.761562  , 7.0029693 , 3.402677  ,\n",
              "       4.4669547 , 5.371406  , 7.69257   , 6.544666  , 0.56314695,\n",
              "       4.309335  , 5.1152177 ], dtype=float32)"
            ]
          },
          "metadata": {},
          "execution_count": 138
        }
      ]
    },
    {
      "cell_type": "code",
      "source": [
        "xgb.predict_proba(df_test.iloc[:,:-1])[0]"
      ],
      "metadata": {
        "colab": {
          "base_uri": "https://localhost:8080/"
        },
        "id": "gMC7WA4VoFag",
        "outputId": "a1a7f52b-a732-4127-c9c6-3ea8a323bb8d"
      },
      "execution_count": null,
      "outputs": [
        {
          "output_type": "execute_result",
          "data": {
            "text/plain": [
              "array([3.5769662e-01, 6.7450354e-05, 1.1574201e-03, 9.0917846e-04,\n",
              "       3.3284046e-02, 1.1482230e-02, 4.6475921e-03, 4.5620417e-04,\n",
              "       1.4377646e-03, 5.6941432e-01, 1.3442485e-02, 6.0046711e-03],\n",
              "      dtype=float32)"
            ]
          },
          "metadata": {},
          "execution_count": 92
        }
      ]
    },
    {
      "cell_type": "code",
      "source": [
        "xgb.predict_proba(df_test.iloc[:,:-1])[0].max()"
      ],
      "metadata": {
        "colab": {
          "base_uri": "https://localhost:8080/"
        },
        "id": "VkM8nNM5o_B3",
        "outputId": "0896dcdc-cdfc-454f-f43b-dae6242aaf88"
      },
      "execution_count": null,
      "outputs": [
        {
          "output_type": "execute_result",
          "data": {
            "text/plain": [
              "0.5694143"
            ]
          },
          "metadata": {},
          "execution_count": 96
        }
      ]
    },
    {
      "cell_type": "code",
      "source": [
        "-np.log(0.5694143)"
      ],
      "metadata": {
        "colab": {
          "base_uri": "https://localhost:8080/"
        },
        "id": "LLSEMxGF1deF",
        "outputId": "aee65833-6f15-4877-c4b1-b6053ccac349"
      },
      "execution_count": null,
      "outputs": [
        {
          "output_type": "execute_result",
          "data": {
            "text/plain": [
              "0.5631469902983037"
            ]
          },
          "metadata": {},
          "execution_count": 136
        }
      ]
    },
    {
      "cell_type": "code",
      "source": [
        "np.argmax(xgb.predict_proba(df_test.iloc[:,:-1])[0])"
      ],
      "metadata": {
        "colab": {
          "base_uri": "https://localhost:8080/"
        },
        "id": "etvRMv55pJ-x",
        "outputId": "c2c0a304-18af-4ad2-d545-6108e5b507ba"
      },
      "execution_count": null,
      "outputs": [
        {
          "output_type": "execute_result",
          "data": {
            "text/plain": [
              "9"
            ]
          },
          "metadata": {},
          "execution_count": 98
        }
      ]
    },
    {
      "cell_type": "code",
      "source": [
        "df_test.iloc[0,-1]"
      ],
      "metadata": {
        "colab": {
          "base_uri": "https://localhost:8080/",
          "height": 36
        },
        "id": "_jlOS_cEoSKy",
        "outputId": "e74ef0dc-5e28-4f33-96ed-858efe3eabec"
      },
      "execution_count": null,
      "outputs": [
        {
          "output_type": "execute_result",
          "data": {
            "text/plain": [
              "'W'"
            ],
            "application/vnd.google.colaboratory.intrinsic+json": {
              "type": "string"
            }
          },
          "metadata": {},
          "execution_count": 95
        }
      ]
    },
    {
      "cell_type": "code",
      "source": [
        "df_train[10]"
      ],
      "metadata": {
        "colab": {
          "base_uri": "https://localhost:8080/"
        },
        "id": "w0A2aH3ovVbs",
        "outputId": "114ce50a-1623-4330-d8f9-77f0686f5be6"
      },
      "execution_count": null,
      "outputs": [
        {
          "output_type": "execute_result",
          "data": {
            "text/plain": [
              "0        A\n",
              "1        A\n",
              "2        A\n",
              "3        A\n",
              "4        F\n",
              "        ..\n",
              "10425    F\n",
              "10426    F\n",
              "10427    A\n",
              "10428    E\n",
              "10429    X\n",
              "Name: 10, Length: 10430, dtype: object"
            ]
          },
          "metadata": {},
          "execution_count": 117
        }
      ]
    },
    {
      "cell_type": "code",
      "source": [
        "pd.get_dummies(df_train[10])"
      ],
      "metadata": {
        "colab": {
          "base_uri": "https://localhost:8080/",
          "height": 424
        },
        "id": "LZtFh0GWvVfp",
        "outputId": "74176a0a-b641-4619-a1c9-26dbe41edd52"
      },
      "execution_count": null,
      "outputs": [
        {
          "output_type": "execute_result",
          "data": {
            "text/plain": [
              "       A  B  C  D  E  F  G  H  I  W  X  Y\n",
              "0      1  0  0  0  0  0  0  0  0  0  0  0\n",
              "1      1  0  0  0  0  0  0  0  0  0  0  0\n",
              "2      1  0  0  0  0  0  0  0  0  0  0  0\n",
              "3      1  0  0  0  0  0  0  0  0  0  0  0\n",
              "4      0  0  0  0  0  1  0  0  0  0  0  0\n",
              "...   .. .. .. .. .. .. .. .. .. .. .. ..\n",
              "10425  0  0  0  0  0  1  0  0  0  0  0  0\n",
              "10426  0  0  0  0  0  1  0  0  0  0  0  0\n",
              "10427  1  0  0  0  0  0  0  0  0  0  0  0\n",
              "10428  0  0  0  0  1  0  0  0  0  0  0  0\n",
              "10429  0  0  0  0  0  0  0  0  0  0  1  0\n",
              "\n",
              "[10430 rows x 12 columns]"
            ],
            "text/html": [
              "\n",
              "  <div id=\"df-dcc6733e-a568-44a3-b9f3-72637c2a972b\">\n",
              "    <div class=\"colab-df-container\">\n",
              "      <div>\n",
              "<style scoped>\n",
              "    .dataframe tbody tr th:only-of-type {\n",
              "        vertical-align: middle;\n",
              "    }\n",
              "\n",
              "    .dataframe tbody tr th {\n",
              "        vertical-align: top;\n",
              "    }\n",
              "\n",
              "    .dataframe thead th {\n",
              "        text-align: right;\n",
              "    }\n",
              "</style>\n",
              "<table border=\"1\" class=\"dataframe\">\n",
              "  <thead>\n",
              "    <tr style=\"text-align: right;\">\n",
              "      <th></th>\n",
              "      <th>A</th>\n",
              "      <th>B</th>\n",
              "      <th>C</th>\n",
              "      <th>D</th>\n",
              "      <th>E</th>\n",
              "      <th>F</th>\n",
              "      <th>G</th>\n",
              "      <th>H</th>\n",
              "      <th>I</th>\n",
              "      <th>W</th>\n",
              "      <th>X</th>\n",
              "      <th>Y</th>\n",
              "    </tr>\n",
              "  </thead>\n",
              "  <tbody>\n",
              "    <tr>\n",
              "      <th>0</th>\n",
              "      <td>1</td>\n",
              "      <td>0</td>\n",
              "      <td>0</td>\n",
              "      <td>0</td>\n",
              "      <td>0</td>\n",
              "      <td>0</td>\n",
              "      <td>0</td>\n",
              "      <td>0</td>\n",
              "      <td>0</td>\n",
              "      <td>0</td>\n",
              "      <td>0</td>\n",
              "      <td>0</td>\n",
              "    </tr>\n",
              "    <tr>\n",
              "      <th>1</th>\n",
              "      <td>1</td>\n",
              "      <td>0</td>\n",
              "      <td>0</td>\n",
              "      <td>0</td>\n",
              "      <td>0</td>\n",
              "      <td>0</td>\n",
              "      <td>0</td>\n",
              "      <td>0</td>\n",
              "      <td>0</td>\n",
              "      <td>0</td>\n",
              "      <td>0</td>\n",
              "      <td>0</td>\n",
              "    </tr>\n",
              "    <tr>\n",
              "      <th>2</th>\n",
              "      <td>1</td>\n",
              "      <td>0</td>\n",
              "      <td>0</td>\n",
              "      <td>0</td>\n",
              "      <td>0</td>\n",
              "      <td>0</td>\n",
              "      <td>0</td>\n",
              "      <td>0</td>\n",
              "      <td>0</td>\n",
              "      <td>0</td>\n",
              "      <td>0</td>\n",
              "      <td>0</td>\n",
              "    </tr>\n",
              "    <tr>\n",
              "      <th>3</th>\n",
              "      <td>1</td>\n",
              "      <td>0</td>\n",
              "      <td>0</td>\n",
              "      <td>0</td>\n",
              "      <td>0</td>\n",
              "      <td>0</td>\n",
              "      <td>0</td>\n",
              "      <td>0</td>\n",
              "      <td>0</td>\n",
              "      <td>0</td>\n",
              "      <td>0</td>\n",
              "      <td>0</td>\n",
              "    </tr>\n",
              "    <tr>\n",
              "      <th>4</th>\n",
              "      <td>0</td>\n",
              "      <td>0</td>\n",
              "      <td>0</td>\n",
              "      <td>0</td>\n",
              "      <td>0</td>\n",
              "      <td>1</td>\n",
              "      <td>0</td>\n",
              "      <td>0</td>\n",
              "      <td>0</td>\n",
              "      <td>0</td>\n",
              "      <td>0</td>\n",
              "      <td>0</td>\n",
              "    </tr>\n",
              "    <tr>\n",
              "      <th>...</th>\n",
              "      <td>...</td>\n",
              "      <td>...</td>\n",
              "      <td>...</td>\n",
              "      <td>...</td>\n",
              "      <td>...</td>\n",
              "      <td>...</td>\n",
              "      <td>...</td>\n",
              "      <td>...</td>\n",
              "      <td>...</td>\n",
              "      <td>...</td>\n",
              "      <td>...</td>\n",
              "      <td>...</td>\n",
              "    </tr>\n",
              "    <tr>\n",
              "      <th>10425</th>\n",
              "      <td>0</td>\n",
              "      <td>0</td>\n",
              "      <td>0</td>\n",
              "      <td>0</td>\n",
              "      <td>0</td>\n",
              "      <td>1</td>\n",
              "      <td>0</td>\n",
              "      <td>0</td>\n",
              "      <td>0</td>\n",
              "      <td>0</td>\n",
              "      <td>0</td>\n",
              "      <td>0</td>\n",
              "    </tr>\n",
              "    <tr>\n",
              "      <th>10426</th>\n",
              "      <td>0</td>\n",
              "      <td>0</td>\n",
              "      <td>0</td>\n",
              "      <td>0</td>\n",
              "      <td>0</td>\n",
              "      <td>1</td>\n",
              "      <td>0</td>\n",
              "      <td>0</td>\n",
              "      <td>0</td>\n",
              "      <td>0</td>\n",
              "      <td>0</td>\n",
              "      <td>0</td>\n",
              "    </tr>\n",
              "    <tr>\n",
              "      <th>10427</th>\n",
              "      <td>1</td>\n",
              "      <td>0</td>\n",
              "      <td>0</td>\n",
              "      <td>0</td>\n",
              "      <td>0</td>\n",
              "      <td>0</td>\n",
              "      <td>0</td>\n",
              "      <td>0</td>\n",
              "      <td>0</td>\n",
              "      <td>0</td>\n",
              "      <td>0</td>\n",
              "      <td>0</td>\n",
              "    </tr>\n",
              "    <tr>\n",
              "      <th>10428</th>\n",
              "      <td>0</td>\n",
              "      <td>0</td>\n",
              "      <td>0</td>\n",
              "      <td>0</td>\n",
              "      <td>1</td>\n",
              "      <td>0</td>\n",
              "      <td>0</td>\n",
              "      <td>0</td>\n",
              "      <td>0</td>\n",
              "      <td>0</td>\n",
              "      <td>0</td>\n",
              "      <td>0</td>\n",
              "    </tr>\n",
              "    <tr>\n",
              "      <th>10429</th>\n",
              "      <td>0</td>\n",
              "      <td>0</td>\n",
              "      <td>0</td>\n",
              "      <td>0</td>\n",
              "      <td>0</td>\n",
              "      <td>0</td>\n",
              "      <td>0</td>\n",
              "      <td>0</td>\n",
              "      <td>0</td>\n",
              "      <td>0</td>\n",
              "      <td>1</td>\n",
              "      <td>0</td>\n",
              "    </tr>\n",
              "  </tbody>\n",
              "</table>\n",
              "<p>10430 rows × 12 columns</p>\n",
              "</div>\n",
              "      <button class=\"colab-df-convert\" onclick=\"convertToInteractive('df-dcc6733e-a568-44a3-b9f3-72637c2a972b')\"\n",
              "              title=\"Convert this dataframe to an interactive table.\"\n",
              "              style=\"display:none;\">\n",
              "        \n",
              "  <svg xmlns=\"http://www.w3.org/2000/svg\" height=\"24px\"viewBox=\"0 0 24 24\"\n",
              "       width=\"24px\">\n",
              "    <path d=\"M0 0h24v24H0V0z\" fill=\"none\"/>\n",
              "    <path d=\"M18.56 5.44l.94 2.06.94-2.06 2.06-.94-2.06-.94-.94-2.06-.94 2.06-2.06.94zm-11 1L8.5 8.5l.94-2.06 2.06-.94-2.06-.94L8.5 2.5l-.94 2.06-2.06.94zm10 10l.94 2.06.94-2.06 2.06-.94-2.06-.94-.94-2.06-.94 2.06-2.06.94z\"/><path d=\"M17.41 7.96l-1.37-1.37c-.4-.4-.92-.59-1.43-.59-.52 0-1.04.2-1.43.59L10.3 9.45l-7.72 7.72c-.78.78-.78 2.05 0 2.83L4 21.41c.39.39.9.59 1.41.59.51 0 1.02-.2 1.41-.59l7.78-7.78 2.81-2.81c.8-.78.8-2.07 0-2.86zM5.41 20L4 18.59l7.72-7.72 1.47 1.35L5.41 20z\"/>\n",
              "  </svg>\n",
              "      </button>\n",
              "      \n",
              "  <style>\n",
              "    .colab-df-container {\n",
              "      display:flex;\n",
              "      flex-wrap:wrap;\n",
              "      gap: 12px;\n",
              "    }\n",
              "\n",
              "    .colab-df-convert {\n",
              "      background-color: #E8F0FE;\n",
              "      border: none;\n",
              "      border-radius: 50%;\n",
              "      cursor: pointer;\n",
              "      display: none;\n",
              "      fill: #1967D2;\n",
              "      height: 32px;\n",
              "      padding: 0 0 0 0;\n",
              "      width: 32px;\n",
              "    }\n",
              "\n",
              "    .colab-df-convert:hover {\n",
              "      background-color: #E2EBFA;\n",
              "      box-shadow: 0px 1px 2px rgba(60, 64, 67, 0.3), 0px 1px 3px 1px rgba(60, 64, 67, 0.15);\n",
              "      fill: #174EA6;\n",
              "    }\n",
              "\n",
              "    [theme=dark] .colab-df-convert {\n",
              "      background-color: #3B4455;\n",
              "      fill: #D2E3FC;\n",
              "    }\n",
              "\n",
              "    [theme=dark] .colab-df-convert:hover {\n",
              "      background-color: #434B5C;\n",
              "      box-shadow: 0px 1px 3px 1px rgba(0, 0, 0, 0.15);\n",
              "      filter: drop-shadow(0px 1px 2px rgba(0, 0, 0, 0.3));\n",
              "      fill: #FFFFFF;\n",
              "    }\n",
              "  </style>\n",
              "\n",
              "      <script>\n",
              "        const buttonEl =\n",
              "          document.querySelector('#df-dcc6733e-a568-44a3-b9f3-72637c2a972b button.colab-df-convert');\n",
              "        buttonEl.style.display =\n",
              "          google.colab.kernel.accessAllowed ? 'block' : 'none';\n",
              "\n",
              "        async function convertToInteractive(key) {\n",
              "          const element = document.querySelector('#df-dcc6733e-a568-44a3-b9f3-72637c2a972b');\n",
              "          const dataTable =\n",
              "            await google.colab.kernel.invokeFunction('convertToInteractive',\n",
              "                                                     [key], {});\n",
              "          if (!dataTable) return;\n",
              "\n",
              "          const docLinkHtml = 'Like what you see? Visit the ' +\n",
              "            '<a target=\"_blank\" href=https://colab.research.google.com/notebooks/data_table.ipynb>data table notebook</a>'\n",
              "            + ' to learn more about interactive tables.';\n",
              "          element.innerHTML = '';\n",
              "          dataTable['output_type'] = 'display_data';\n",
              "          await google.colab.output.renderOutput(dataTable, element);\n",
              "          const docLink = document.createElement('div');\n",
              "          docLink.innerHTML = docLinkHtml;\n",
              "          element.appendChild(docLink);\n",
              "        }\n",
              "      </script>\n",
              "    </div>\n",
              "  </div>\n",
              "  "
            ]
          },
          "metadata": {},
          "execution_count": 119
        }
      ]
    },
    {
      "cell_type": "code",
      "source": [
        "df=pd.get_dummies(df_test[10])"
      ],
      "metadata": {
        "id": "j57SETKrvVid"
      },
      "execution_count": null,
      "outputs": []
    },
    {
      "cell_type": "code",
      "source": [
        "df"
      ],
      "metadata": {
        "colab": {
          "base_uri": "https://localhost:8080/",
          "height": 424
        },
        "id": "1JzOgeRA1HPV",
        "outputId": "e49d62be-6e88-4b0c-991e-3598f114a3b8"
      },
      "execution_count": null,
      "outputs": [
        {
          "output_type": "execute_result",
          "data": {
            "text/plain": [
              "       A  B  C  D  E  F  G  H  I  W  X  Y\n",
              "0      0  0  0  0  0  0  0  0  0  1  0  0\n",
              "1      1  0  0  0  0  0  0  0  0  0  0  0\n",
              "2      0  0  0  0  0  0  0  0  1  0  0  0\n",
              "3      0  0  0  0  1  0  0  0  0  0  0  0\n",
              "4      1  0  0  0  0  0  0  0  0  0  0  0\n",
              "...   .. .. .. .. .. .. .. .. .. .. .. ..\n",
              "10432  0  0  0  0  0  0  0  0  0  0  1  0\n",
              "10433  0  0  0  0  0  0  1  0  0  0  0  0\n",
              "10434  1  0  0  0  0  0  0  0  0  0  0  0\n",
              "10435  0  0  0  0  0  1  0  0  0  0  0  0\n",
              "10436  0  0  0  0  0  0  0  1  0  0  0  0\n",
              "\n",
              "[10437 rows x 12 columns]"
            ],
            "text/html": [
              "\n",
              "  <div id=\"df-38739677-7594-4b0e-bb33-2d70dc6160bb\">\n",
              "    <div class=\"colab-df-container\">\n",
              "      <div>\n",
              "<style scoped>\n",
              "    .dataframe tbody tr th:only-of-type {\n",
              "        vertical-align: middle;\n",
              "    }\n",
              "\n",
              "    .dataframe tbody tr th {\n",
              "        vertical-align: top;\n",
              "    }\n",
              "\n",
              "    .dataframe thead th {\n",
              "        text-align: right;\n",
              "    }\n",
              "</style>\n",
              "<table border=\"1\" class=\"dataframe\">\n",
              "  <thead>\n",
              "    <tr style=\"text-align: right;\">\n",
              "      <th></th>\n",
              "      <th>A</th>\n",
              "      <th>B</th>\n",
              "      <th>C</th>\n",
              "      <th>D</th>\n",
              "      <th>E</th>\n",
              "      <th>F</th>\n",
              "      <th>G</th>\n",
              "      <th>H</th>\n",
              "      <th>I</th>\n",
              "      <th>W</th>\n",
              "      <th>X</th>\n",
              "      <th>Y</th>\n",
              "    </tr>\n",
              "  </thead>\n",
              "  <tbody>\n",
              "    <tr>\n",
              "      <th>0</th>\n",
              "      <td>0</td>\n",
              "      <td>0</td>\n",
              "      <td>0</td>\n",
              "      <td>0</td>\n",
              "      <td>0</td>\n",
              "      <td>0</td>\n",
              "      <td>0</td>\n",
              "      <td>0</td>\n",
              "      <td>0</td>\n",
              "      <td>1</td>\n",
              "      <td>0</td>\n",
              "      <td>0</td>\n",
              "    </tr>\n",
              "    <tr>\n",
              "      <th>1</th>\n",
              "      <td>1</td>\n",
              "      <td>0</td>\n",
              "      <td>0</td>\n",
              "      <td>0</td>\n",
              "      <td>0</td>\n",
              "      <td>0</td>\n",
              "      <td>0</td>\n",
              "      <td>0</td>\n",
              "      <td>0</td>\n",
              "      <td>0</td>\n",
              "      <td>0</td>\n",
              "      <td>0</td>\n",
              "    </tr>\n",
              "    <tr>\n",
              "      <th>2</th>\n",
              "      <td>0</td>\n",
              "      <td>0</td>\n",
              "      <td>0</td>\n",
              "      <td>0</td>\n",
              "      <td>0</td>\n",
              "      <td>0</td>\n",
              "      <td>0</td>\n",
              "      <td>0</td>\n",
              "      <td>1</td>\n",
              "      <td>0</td>\n",
              "      <td>0</td>\n",
              "      <td>0</td>\n",
              "    </tr>\n",
              "    <tr>\n",
              "      <th>3</th>\n",
              "      <td>0</td>\n",
              "      <td>0</td>\n",
              "      <td>0</td>\n",
              "      <td>0</td>\n",
              "      <td>1</td>\n",
              "      <td>0</td>\n",
              "      <td>0</td>\n",
              "      <td>0</td>\n",
              "      <td>0</td>\n",
              "      <td>0</td>\n",
              "      <td>0</td>\n",
              "      <td>0</td>\n",
              "    </tr>\n",
              "    <tr>\n",
              "      <th>4</th>\n",
              "      <td>1</td>\n",
              "      <td>0</td>\n",
              "      <td>0</td>\n",
              "      <td>0</td>\n",
              "      <td>0</td>\n",
              "      <td>0</td>\n",
              "      <td>0</td>\n",
              "      <td>0</td>\n",
              "      <td>0</td>\n",
              "      <td>0</td>\n",
              "      <td>0</td>\n",
              "      <td>0</td>\n",
              "    </tr>\n",
              "    <tr>\n",
              "      <th>...</th>\n",
              "      <td>...</td>\n",
              "      <td>...</td>\n",
              "      <td>...</td>\n",
              "      <td>...</td>\n",
              "      <td>...</td>\n",
              "      <td>...</td>\n",
              "      <td>...</td>\n",
              "      <td>...</td>\n",
              "      <td>...</td>\n",
              "      <td>...</td>\n",
              "      <td>...</td>\n",
              "      <td>...</td>\n",
              "    </tr>\n",
              "    <tr>\n",
              "      <th>10432</th>\n",
              "      <td>0</td>\n",
              "      <td>0</td>\n",
              "      <td>0</td>\n",
              "      <td>0</td>\n",
              "      <td>0</td>\n",
              "      <td>0</td>\n",
              "      <td>0</td>\n",
              "      <td>0</td>\n",
              "      <td>0</td>\n",
              "      <td>0</td>\n",
              "      <td>1</td>\n",
              "      <td>0</td>\n",
              "    </tr>\n",
              "    <tr>\n",
              "      <th>10433</th>\n",
              "      <td>0</td>\n",
              "      <td>0</td>\n",
              "      <td>0</td>\n",
              "      <td>0</td>\n",
              "      <td>0</td>\n",
              "      <td>0</td>\n",
              "      <td>1</td>\n",
              "      <td>0</td>\n",
              "      <td>0</td>\n",
              "      <td>0</td>\n",
              "      <td>0</td>\n",
              "      <td>0</td>\n",
              "    </tr>\n",
              "    <tr>\n",
              "      <th>10434</th>\n",
              "      <td>1</td>\n",
              "      <td>0</td>\n",
              "      <td>0</td>\n",
              "      <td>0</td>\n",
              "      <td>0</td>\n",
              "      <td>0</td>\n",
              "      <td>0</td>\n",
              "      <td>0</td>\n",
              "      <td>0</td>\n",
              "      <td>0</td>\n",
              "      <td>0</td>\n",
              "      <td>0</td>\n",
              "    </tr>\n",
              "    <tr>\n",
              "      <th>10435</th>\n",
              "      <td>0</td>\n",
              "      <td>0</td>\n",
              "      <td>0</td>\n",
              "      <td>0</td>\n",
              "      <td>0</td>\n",
              "      <td>1</td>\n",
              "      <td>0</td>\n",
              "      <td>0</td>\n",
              "      <td>0</td>\n",
              "      <td>0</td>\n",
              "      <td>0</td>\n",
              "      <td>0</td>\n",
              "    </tr>\n",
              "    <tr>\n",
              "      <th>10436</th>\n",
              "      <td>0</td>\n",
              "      <td>0</td>\n",
              "      <td>0</td>\n",
              "      <td>0</td>\n",
              "      <td>0</td>\n",
              "      <td>0</td>\n",
              "      <td>0</td>\n",
              "      <td>1</td>\n",
              "      <td>0</td>\n",
              "      <td>0</td>\n",
              "      <td>0</td>\n",
              "      <td>0</td>\n",
              "    </tr>\n",
              "  </tbody>\n",
              "</table>\n",
              "<p>10437 rows × 12 columns</p>\n",
              "</div>\n",
              "      <button class=\"colab-df-convert\" onclick=\"convertToInteractive('df-38739677-7594-4b0e-bb33-2d70dc6160bb')\"\n",
              "              title=\"Convert this dataframe to an interactive table.\"\n",
              "              style=\"display:none;\">\n",
              "        \n",
              "  <svg xmlns=\"http://www.w3.org/2000/svg\" height=\"24px\"viewBox=\"0 0 24 24\"\n",
              "       width=\"24px\">\n",
              "    <path d=\"M0 0h24v24H0V0z\" fill=\"none\"/>\n",
              "    <path d=\"M18.56 5.44l.94 2.06.94-2.06 2.06-.94-2.06-.94-.94-2.06-.94 2.06-2.06.94zm-11 1L8.5 8.5l.94-2.06 2.06-.94-2.06-.94L8.5 2.5l-.94 2.06-2.06.94zm10 10l.94 2.06.94-2.06 2.06-.94-2.06-.94-.94-2.06-.94 2.06-2.06.94z\"/><path d=\"M17.41 7.96l-1.37-1.37c-.4-.4-.92-.59-1.43-.59-.52 0-1.04.2-1.43.59L10.3 9.45l-7.72 7.72c-.78.78-.78 2.05 0 2.83L4 21.41c.39.39.9.59 1.41.59.51 0 1.02-.2 1.41-.59l7.78-7.78 2.81-2.81c.8-.78.8-2.07 0-2.86zM5.41 20L4 18.59l7.72-7.72 1.47 1.35L5.41 20z\"/>\n",
              "  </svg>\n",
              "      </button>\n",
              "      \n",
              "  <style>\n",
              "    .colab-df-container {\n",
              "      display:flex;\n",
              "      flex-wrap:wrap;\n",
              "      gap: 12px;\n",
              "    }\n",
              "\n",
              "    .colab-df-convert {\n",
              "      background-color: #E8F0FE;\n",
              "      border: none;\n",
              "      border-radius: 50%;\n",
              "      cursor: pointer;\n",
              "      display: none;\n",
              "      fill: #1967D2;\n",
              "      height: 32px;\n",
              "      padding: 0 0 0 0;\n",
              "      width: 32px;\n",
              "    }\n",
              "\n",
              "    .colab-df-convert:hover {\n",
              "      background-color: #E2EBFA;\n",
              "      box-shadow: 0px 1px 2px rgba(60, 64, 67, 0.3), 0px 1px 3px 1px rgba(60, 64, 67, 0.15);\n",
              "      fill: #174EA6;\n",
              "    }\n",
              "\n",
              "    [theme=dark] .colab-df-convert {\n",
              "      background-color: #3B4455;\n",
              "      fill: #D2E3FC;\n",
              "    }\n",
              "\n",
              "    [theme=dark] .colab-df-convert:hover {\n",
              "      background-color: #434B5C;\n",
              "      box-shadow: 0px 1px 3px 1px rgba(0, 0, 0, 0.15);\n",
              "      filter: drop-shadow(0px 1px 2px rgba(0, 0, 0, 0.3));\n",
              "      fill: #FFFFFF;\n",
              "    }\n",
              "  </style>\n",
              "\n",
              "      <script>\n",
              "        const buttonEl =\n",
              "          document.querySelector('#df-38739677-7594-4b0e-bb33-2d70dc6160bb button.colab-df-convert');\n",
              "        buttonEl.style.display =\n",
              "          google.colab.kernel.accessAllowed ? 'block' : 'none';\n",
              "\n",
              "        async function convertToInteractive(key) {\n",
              "          const element = document.querySelector('#df-38739677-7594-4b0e-bb33-2d70dc6160bb');\n",
              "          const dataTable =\n",
              "            await google.colab.kernel.invokeFunction('convertToInteractive',\n",
              "                                                     [key], {});\n",
              "          if (!dataTable) return;\n",
              "\n",
              "          const docLinkHtml = 'Like what you see? Visit the ' +\n",
              "            '<a target=\"_blank\" href=https://colab.research.google.com/notebooks/data_table.ipynb>data table notebook</a>'\n",
              "            + ' to learn more about interactive tables.';\n",
              "          element.innerHTML = '';\n",
              "          dataTable['output_type'] = 'display_data';\n",
              "          await google.colab.output.renderOutput(dataTable, element);\n",
              "          const docLink = document.createElement('div');\n",
              "          docLink.innerHTML = docLinkHtml;\n",
              "          element.appendChild(docLink);\n",
              "        }\n",
              "      </script>\n",
              "    </div>\n",
              "  </div>\n",
              "  "
            ]
          },
          "metadata": {},
          "execution_count": 140
        }
      ]
    },
    {
      "cell_type": "code",
      "source": [
        "cce=-(df* np.log(pred))\n",
        "cce"
      ],
      "metadata": {
        "colab": {
          "base_uri": "https://localhost:8080/",
          "height": 424
        },
        "id": "YvyR7mPPvVlE",
        "outputId": "cf7a78fe-6736-43ef-9123-4ece0166b4b8"
      },
      "execution_count": null,
      "outputs": [
        {
          "output_type": "execute_result",
          "data": {
            "text/plain": [
              "              A    B    C    D         E         F         G         H  \\\n",
              "0      0.000000  0.0  0.0  0.0  0.000000  0.000000  0.000000  0.000000   \n",
              "1      1.194990  0.0  0.0  0.0  0.000000  0.000000  0.000000  0.000000   \n",
              "2      0.000000  0.0  0.0  0.0  0.000000  0.000000  0.000000  0.000000   \n",
              "3      0.000000  0.0  0.0  0.0  1.476097  0.000000  0.000000  0.000000   \n",
              "4      0.324059  0.0  0.0  0.0  0.000000  0.000000  0.000000  0.000000   \n",
              "...         ...  ...  ...  ...       ...       ...       ...       ...   \n",
              "10432  0.000000  0.0  0.0  0.0  0.000000  0.000000  0.000000  0.000000   \n",
              "10433  0.000000  0.0  0.0  0.0  0.000000  0.000000  0.945158  0.000000   \n",
              "10434  0.980135  0.0  0.0  0.0  0.000000  0.000000  0.000000  0.000000   \n",
              "10435  0.000000  0.0  0.0  0.0  0.000000  0.786296  0.000000  0.000000   \n",
              "10436  0.000000  0.0  0.0  0.0  0.000000  0.000000  0.000000  0.639752   \n",
              "\n",
              "              I         W         X    Y  \n",
              "0      0.000000  0.563147  0.000000  0.0  \n",
              "1      0.000000  0.000000  0.000000  0.0  \n",
              "2      0.709541  0.000000  0.000000  0.0  \n",
              "3      0.000000  0.000000  0.000000  0.0  \n",
              "4      0.000000  0.000000  0.000000  0.0  \n",
              "...         ...       ...       ...  ...  \n",
              "10432  0.000000  0.000000  0.406722  0.0  \n",
              "10433  0.000000  0.000000  0.000000  0.0  \n",
              "10434  0.000000  0.000000  0.000000  0.0  \n",
              "10435  0.000000  0.000000  0.000000  0.0  \n",
              "10436  0.000000  0.000000  0.000000  0.0  \n",
              "\n",
              "[10437 rows x 12 columns]"
            ],
            "text/html": [
              "\n",
              "  <div id=\"df-fcf42efa-8621-4cd0-85ff-e19550f980c7\">\n",
              "    <div class=\"colab-df-container\">\n",
              "      <div>\n",
              "<style scoped>\n",
              "    .dataframe tbody tr th:only-of-type {\n",
              "        vertical-align: middle;\n",
              "    }\n",
              "\n",
              "    .dataframe tbody tr th {\n",
              "        vertical-align: top;\n",
              "    }\n",
              "\n",
              "    .dataframe thead th {\n",
              "        text-align: right;\n",
              "    }\n",
              "</style>\n",
              "<table border=\"1\" class=\"dataframe\">\n",
              "  <thead>\n",
              "    <tr style=\"text-align: right;\">\n",
              "      <th></th>\n",
              "      <th>A</th>\n",
              "      <th>B</th>\n",
              "      <th>C</th>\n",
              "      <th>D</th>\n",
              "      <th>E</th>\n",
              "      <th>F</th>\n",
              "      <th>G</th>\n",
              "      <th>H</th>\n",
              "      <th>I</th>\n",
              "      <th>W</th>\n",
              "      <th>X</th>\n",
              "      <th>Y</th>\n",
              "    </tr>\n",
              "  </thead>\n",
              "  <tbody>\n",
              "    <tr>\n",
              "      <th>0</th>\n",
              "      <td>0.000000</td>\n",
              "      <td>0.0</td>\n",
              "      <td>0.0</td>\n",
              "      <td>0.0</td>\n",
              "      <td>0.000000</td>\n",
              "      <td>0.000000</td>\n",
              "      <td>0.000000</td>\n",
              "      <td>0.000000</td>\n",
              "      <td>0.000000</td>\n",
              "      <td>0.563147</td>\n",
              "      <td>0.000000</td>\n",
              "      <td>0.0</td>\n",
              "    </tr>\n",
              "    <tr>\n",
              "      <th>1</th>\n",
              "      <td>1.194990</td>\n",
              "      <td>0.0</td>\n",
              "      <td>0.0</td>\n",
              "      <td>0.0</td>\n",
              "      <td>0.000000</td>\n",
              "      <td>0.000000</td>\n",
              "      <td>0.000000</td>\n",
              "      <td>0.000000</td>\n",
              "      <td>0.000000</td>\n",
              "      <td>0.000000</td>\n",
              "      <td>0.000000</td>\n",
              "      <td>0.0</td>\n",
              "    </tr>\n",
              "    <tr>\n",
              "      <th>2</th>\n",
              "      <td>0.000000</td>\n",
              "      <td>0.0</td>\n",
              "      <td>0.0</td>\n",
              "      <td>0.0</td>\n",
              "      <td>0.000000</td>\n",
              "      <td>0.000000</td>\n",
              "      <td>0.000000</td>\n",
              "      <td>0.000000</td>\n",
              "      <td>0.709541</td>\n",
              "      <td>0.000000</td>\n",
              "      <td>0.000000</td>\n",
              "      <td>0.0</td>\n",
              "    </tr>\n",
              "    <tr>\n",
              "      <th>3</th>\n",
              "      <td>0.000000</td>\n",
              "      <td>0.0</td>\n",
              "      <td>0.0</td>\n",
              "      <td>0.0</td>\n",
              "      <td>1.476097</td>\n",
              "      <td>0.000000</td>\n",
              "      <td>0.000000</td>\n",
              "      <td>0.000000</td>\n",
              "      <td>0.000000</td>\n",
              "      <td>0.000000</td>\n",
              "      <td>0.000000</td>\n",
              "      <td>0.0</td>\n",
              "    </tr>\n",
              "    <tr>\n",
              "      <th>4</th>\n",
              "      <td>0.324059</td>\n",
              "      <td>0.0</td>\n",
              "      <td>0.0</td>\n",
              "      <td>0.0</td>\n",
              "      <td>0.000000</td>\n",
              "      <td>0.000000</td>\n",
              "      <td>0.000000</td>\n",
              "      <td>0.000000</td>\n",
              "      <td>0.000000</td>\n",
              "      <td>0.000000</td>\n",
              "      <td>0.000000</td>\n",
              "      <td>0.0</td>\n",
              "    </tr>\n",
              "    <tr>\n",
              "      <th>...</th>\n",
              "      <td>...</td>\n",
              "      <td>...</td>\n",
              "      <td>...</td>\n",
              "      <td>...</td>\n",
              "      <td>...</td>\n",
              "      <td>...</td>\n",
              "      <td>...</td>\n",
              "      <td>...</td>\n",
              "      <td>...</td>\n",
              "      <td>...</td>\n",
              "      <td>...</td>\n",
              "      <td>...</td>\n",
              "    </tr>\n",
              "    <tr>\n",
              "      <th>10432</th>\n",
              "      <td>0.000000</td>\n",
              "      <td>0.0</td>\n",
              "      <td>0.0</td>\n",
              "      <td>0.0</td>\n",
              "      <td>0.000000</td>\n",
              "      <td>0.000000</td>\n",
              "      <td>0.000000</td>\n",
              "      <td>0.000000</td>\n",
              "      <td>0.000000</td>\n",
              "      <td>0.000000</td>\n",
              "      <td>0.406722</td>\n",
              "      <td>0.0</td>\n",
              "    </tr>\n",
              "    <tr>\n",
              "      <th>10433</th>\n",
              "      <td>0.000000</td>\n",
              "      <td>0.0</td>\n",
              "      <td>0.0</td>\n",
              "      <td>0.0</td>\n",
              "      <td>0.000000</td>\n",
              "      <td>0.000000</td>\n",
              "      <td>0.945158</td>\n",
              "      <td>0.000000</td>\n",
              "      <td>0.000000</td>\n",
              "      <td>0.000000</td>\n",
              "      <td>0.000000</td>\n",
              "      <td>0.0</td>\n",
              "    </tr>\n",
              "    <tr>\n",
              "      <th>10434</th>\n",
              "      <td>0.980135</td>\n",
              "      <td>0.0</td>\n",
              "      <td>0.0</td>\n",
              "      <td>0.0</td>\n",
              "      <td>0.000000</td>\n",
              "      <td>0.000000</td>\n",
              "      <td>0.000000</td>\n",
              "      <td>0.000000</td>\n",
              "      <td>0.000000</td>\n",
              "      <td>0.000000</td>\n",
              "      <td>0.000000</td>\n",
              "      <td>0.0</td>\n",
              "    </tr>\n",
              "    <tr>\n",
              "      <th>10435</th>\n",
              "      <td>0.000000</td>\n",
              "      <td>0.0</td>\n",
              "      <td>0.0</td>\n",
              "      <td>0.0</td>\n",
              "      <td>0.000000</td>\n",
              "      <td>0.786296</td>\n",
              "      <td>0.000000</td>\n",
              "      <td>0.000000</td>\n",
              "      <td>0.000000</td>\n",
              "      <td>0.000000</td>\n",
              "      <td>0.000000</td>\n",
              "      <td>0.0</td>\n",
              "    </tr>\n",
              "    <tr>\n",
              "      <th>10436</th>\n",
              "      <td>0.000000</td>\n",
              "      <td>0.0</td>\n",
              "      <td>0.0</td>\n",
              "      <td>0.0</td>\n",
              "      <td>0.000000</td>\n",
              "      <td>0.000000</td>\n",
              "      <td>0.000000</td>\n",
              "      <td>0.639752</td>\n",
              "      <td>0.000000</td>\n",
              "      <td>0.000000</td>\n",
              "      <td>0.000000</td>\n",
              "      <td>0.0</td>\n",
              "    </tr>\n",
              "  </tbody>\n",
              "</table>\n",
              "<p>10437 rows × 12 columns</p>\n",
              "</div>\n",
              "      <button class=\"colab-df-convert\" onclick=\"convertToInteractive('df-fcf42efa-8621-4cd0-85ff-e19550f980c7')\"\n",
              "              title=\"Convert this dataframe to an interactive table.\"\n",
              "              style=\"display:none;\">\n",
              "        \n",
              "  <svg xmlns=\"http://www.w3.org/2000/svg\" height=\"24px\"viewBox=\"0 0 24 24\"\n",
              "       width=\"24px\">\n",
              "    <path d=\"M0 0h24v24H0V0z\" fill=\"none\"/>\n",
              "    <path d=\"M18.56 5.44l.94 2.06.94-2.06 2.06-.94-2.06-.94-.94-2.06-.94 2.06-2.06.94zm-11 1L8.5 8.5l.94-2.06 2.06-.94-2.06-.94L8.5 2.5l-.94 2.06-2.06.94zm10 10l.94 2.06.94-2.06 2.06-.94-2.06-.94-.94-2.06-.94 2.06-2.06.94z\"/><path d=\"M17.41 7.96l-1.37-1.37c-.4-.4-.92-.59-1.43-.59-.52 0-1.04.2-1.43.59L10.3 9.45l-7.72 7.72c-.78.78-.78 2.05 0 2.83L4 21.41c.39.39.9.59 1.41.59.51 0 1.02-.2 1.41-.59l7.78-7.78 2.81-2.81c.8-.78.8-2.07 0-2.86zM5.41 20L4 18.59l7.72-7.72 1.47 1.35L5.41 20z\"/>\n",
              "  </svg>\n",
              "      </button>\n",
              "      \n",
              "  <style>\n",
              "    .colab-df-container {\n",
              "      display:flex;\n",
              "      flex-wrap:wrap;\n",
              "      gap: 12px;\n",
              "    }\n",
              "\n",
              "    .colab-df-convert {\n",
              "      background-color: #E8F0FE;\n",
              "      border: none;\n",
              "      border-radius: 50%;\n",
              "      cursor: pointer;\n",
              "      display: none;\n",
              "      fill: #1967D2;\n",
              "      height: 32px;\n",
              "      padding: 0 0 0 0;\n",
              "      width: 32px;\n",
              "    }\n",
              "\n",
              "    .colab-df-convert:hover {\n",
              "      background-color: #E2EBFA;\n",
              "      box-shadow: 0px 1px 2px rgba(60, 64, 67, 0.3), 0px 1px 3px 1px rgba(60, 64, 67, 0.15);\n",
              "      fill: #174EA6;\n",
              "    }\n",
              "\n",
              "    [theme=dark] .colab-df-convert {\n",
              "      background-color: #3B4455;\n",
              "      fill: #D2E3FC;\n",
              "    }\n",
              "\n",
              "    [theme=dark] .colab-df-convert:hover {\n",
              "      background-color: #434B5C;\n",
              "      box-shadow: 0px 1px 3px 1px rgba(0, 0, 0, 0.15);\n",
              "      filter: drop-shadow(0px 1px 2px rgba(0, 0, 0, 0.3));\n",
              "      fill: #FFFFFF;\n",
              "    }\n",
              "  </style>\n",
              "\n",
              "      <script>\n",
              "        const buttonEl =\n",
              "          document.querySelector('#df-fcf42efa-8621-4cd0-85ff-e19550f980c7 button.colab-df-convert');\n",
              "        buttonEl.style.display =\n",
              "          google.colab.kernel.accessAllowed ? 'block' : 'none';\n",
              "\n",
              "        async function convertToInteractive(key) {\n",
              "          const element = document.querySelector('#df-fcf42efa-8621-4cd0-85ff-e19550f980c7');\n",
              "          const dataTable =\n",
              "            await google.colab.kernel.invokeFunction('convertToInteractive',\n",
              "                                                     [key], {});\n",
              "          if (!dataTable) return;\n",
              "\n",
              "          const docLinkHtml = 'Like what you see? Visit the ' +\n",
              "            '<a target=\"_blank\" href=https://colab.research.google.com/notebooks/data_table.ipynb>data table notebook</a>'\n",
              "            + ' to learn more about interactive tables.';\n",
              "          element.innerHTML = '';\n",
              "          dataTable['output_type'] = 'display_data';\n",
              "          await google.colab.output.renderOutput(dataTable, element);\n",
              "          const docLink = document.createElement('div');\n",
              "          docLink.innerHTML = docLinkHtml;\n",
              "          element.appendChild(docLink);\n",
              "        }\n",
              "      </script>\n",
              "    </div>\n",
              "  </div>\n",
              "  "
            ]
          },
          "metadata": {},
          "execution_count": 143
        }
      ]
    },
    {
      "cell_type": "code",
      "source": [
        "col_cce=cce.sum(axis=0)\n",
        "col_cce"
      ],
      "metadata": {
        "colab": {
          "base_uri": "https://localhost:8080/"
        },
        "id": "Ov5MXA16vVnt",
        "outputId": "e7dc965f-42c7-4912-e6be-395ddbc3eebd"
      },
      "execution_count": null,
      "outputs": [
        {
          "output_type": "execute_result",
          "data": {
            "text/plain": [
              "A    2108.763428\n",
              "B       3.003357\n",
              "C     151.306366\n",
              "D     339.916748\n",
              "E     989.283020\n",
              "F    1991.318848\n",
              "G     439.025360\n",
              "H     473.599731\n",
              "I      76.004639\n",
              "W      39.699711\n",
              "X     317.634857\n",
              "Y     113.512123\n",
              "dtype: float32"
            ]
          },
          "metadata": {},
          "execution_count": 151
        }
      ]
    },
    {
      "cell_type": "code",
      "source": [
        "total_cce=col_cce.sum()\n",
        "total_cce"
      ],
      "metadata": {
        "colab": {
          "base_uri": "https://localhost:8080/"
        },
        "id": "_Xt17wRSvVqn",
        "outputId": "aba5734a-3f3e-4347-bc91-86a87431ffe3"
      },
      "execution_count": null,
      "outputs": [
        {
          "output_type": "execute_result",
          "data": {
            "text/plain": [
              "7043.0684"
            ]
          },
          "metadata": {},
          "execution_count": 153
        }
      ]
    },
    {
      "cell_type": "code",
      "source": [
        "def cat_cross_entropy_score(model,df_train,df_test):\n",
        "  model=model.fit(df_train.iloc[:,:-1],df_train.iloc[:,-1])\n",
        "  pred=model.predict_proba(df_test.iloc[:,:-1])\n",
        "  dummy=pd.get_dummies(df_test.iloc[:,-1])\n",
        "  df_cce=-(dummy*np.log(pred))\n",
        "  col_sum_cce = df_cce.sum(axis=0)\n",
        "  total_cce_score = col_sum_cce.sum()\n",
        "  return total_cce_score"
      ],
      "metadata": {
        "id": "JRPfo2Kc53P0"
      },
      "execution_count": 11,
      "outputs": []
    },
    {
      "cell_type": "code",
      "source": [
        "from sklearn.linear_model import LogisticRegression\n",
        "lgr=LogisticRegression()"
      ],
      "metadata": {
        "id": "aF_g3UCO71Bl"
      },
      "execution_count": 12,
      "outputs": []
    },
    {
      "cell_type": "code",
      "source": [
        "cat_cross_entropy_score(LogisticRegression(),df_train,df_test)"
      ],
      "metadata": {
        "colab": {
          "base_uri": "https://localhost:8080/"
        },
        "id": "lpycSlDR8GRC",
        "outputId": "76ae5c10-8429-40dd-b7bd-d471367fcf7a"
      },
      "execution_count": null,
      "outputs": [
        {
          "output_type": "execute_result",
          "data": {
            "text/plain": [
              "13772.119414561683"
            ]
          },
          "metadata": {},
          "execution_count": 166
        }
      ]
    },
    {
      "cell_type": "code",
      "source": [
        "from xgboost import XGBClassifier\n",
        "xgb=XGBClassifier()"
      ],
      "metadata": {
        "id": "ZyDV9IIi9dje"
      },
      "execution_count": null,
      "outputs": []
    },
    {
      "cell_type": "code",
      "source": [
        "cat_cross_entropy_score(xgb,df_train,df_test)"
      ],
      "metadata": {
        "colab": {
          "base_uri": "https://localhost:8080/"
        },
        "id": "Y-llIH-I9riH",
        "outputId": "e124cae1-b9de-4fbd-feb4-8152c8fd218b"
      },
      "execution_count": null,
      "outputs": [
        {
          "output_type": "execute_result",
          "data": {
            "text/plain": [
              "4225.608"
            ]
          },
          "metadata": {},
          "execution_count": 168
        }
      ]
    },
    {
      "cell_type": "code",
      "source": [
        "xgb1 = XGBClassifier(n_estimators=3000, max_depth=1, \n",
        "                    learning_rate=0.01, booster='gbtree')"
      ],
      "metadata": {
        "id": "Dg0vymiD-Dpu"
      },
      "execution_count": null,
      "outputs": []
    },
    {
      "cell_type": "code",
      "source": [
        "cat_cross_entropy_score(xgb1,df_train,df_test)"
      ],
      "metadata": {
        "colab": {
          "base_uri": "https://localhost:8080/"
        },
        "id": "caLfgW1e-G04",
        "outputId": "b68144a6-a8bc-4e2a-f952-508afe3239f1"
      },
      "execution_count": null,
      "outputs": [
        {
          "output_type": "execute_result",
          "data": {
            "text/plain": [
              "7043.0684"
            ]
          },
          "metadata": {},
          "execution_count": 170
        }
      ]
    },
    {
      "cell_type": "code",
      "source": [
        "### Stacking"
      ],
      "metadata": {
        "id": "pBUhGhEhWb74"
      },
      "execution_count": null,
      "outputs": []
    },
    {
      "cell_type": "code",
      "source": [
        "from sklearn.ensemble import StackingClassifier\n",
        "from sklearn.pipeline import make_pipeline\n",
        "from sklearn.svm import LinearSVC\n",
        "from sklearn.linear_model import LogisticRegression\n",
        "from sklearn.neighbors import KNeighborsClassifier\n",
        "from sklearn.ensemble import RandomForestClassifier\n",
        "from sklearn.preprocessing import StandardScaler"
      ],
      "metadata": {
        "id": "FzU2ty2pXp2Q"
      },
      "execution_count": 13,
      "outputs": []
    },
    {
      "cell_type": "code",
      "source": [
        "estimators = [('rf', RandomForestClassifier(n_estimators=10, random_state=42)),\n",
        "              ('svr', make_pipeline(StandardScaler(),\n",
        "                          LinearSVC(random_state=42))),\n",
        "              ('knn',make_pipeline(StandardScaler(),\n",
        "                          KNeighborsClassifier(n_neighbors=3)))\n",
        "]"
      ],
      "metadata": {
        "id": "GHnMtyRmYuS6"
      },
      "execution_count": null,
      "outputs": []
    },
    {
      "cell_type": "code",
      "source": [
        "clf = StackingClassifier(estimators=estimators,final_estimator=XGBClassifier())"
      ],
      "metadata": {
        "id": "PMPzuQ_Pcw8Q"
      },
      "execution_count": null,
      "outputs": []
    },
    {
      "cell_type": "code",
      "source": [
        "clf.fit(df_train.iloc[:,:-1],df_train.iloc[:,-1])"
      ],
      "metadata": {
        "colab": {
          "base_uri": "https://localhost:8080/"
        },
        "id": "JDAfN6ixdNHo",
        "outputId": "d9165feb-e8f4-414e-ee47-0b94edbe645f"
      },
      "execution_count": null,
      "outputs": [
        {
          "output_type": "execute_result",
          "data": {
            "text/plain": [
              "StackingClassifier(estimators=[('rf',\n",
              "                                RandomForestClassifier(n_estimators=10,\n",
              "                                                       random_state=42)),\n",
              "                               ('svr',\n",
              "                                Pipeline(steps=[('standardscaler',\n",
              "                                                 StandardScaler()),\n",
              "                                                ('linearsvc',\n",
              "                                                 LinearSVC(random_state=42))])),\n",
              "                               ('knn',\n",
              "                                Pipeline(steps=[('standardscaler',\n",
              "                                                 StandardScaler()),\n",
              "                                                ('kneighborsclassifier',\n",
              "                                                 KNeighborsClassifier(n_neighbors=3))]))],\n",
              "                   final_estimator=XGBClassifier())"
            ]
          },
          "metadata": {},
          "execution_count": 67
        }
      ]
    },
    {
      "cell_type": "code",
      "source": [
        "cohen_kappa_score(df_test.iloc[:,-1],clf.predict(df_test.iloc[:,:-1]))"
      ],
      "metadata": {
        "colab": {
          "base_uri": "https://localhost:8080/"
        },
        "id": "pjhtE1uId4Cc",
        "outputId": "ac79b43c-463a-4044-d6ac-b6a8efb38bbf"
      },
      "execution_count": null,
      "outputs": [
        {
          "output_type": "execute_result",
          "data": {
            "text/plain": [
              "0.9608657136766391"
            ]
          },
          "metadata": {},
          "execution_count": 68
        }
      ]
    },
    {
      "cell_type": "code",
      "source": [
        "cv_score=cross_val_score(clf,df_test.iloc[:,:-1],df_test.iloc[:,-1],scoring=make_scorer(cohen_kappa_score),cv=5,n_jobs=-1)"
      ],
      "metadata": {
        "id": "l1Wo-odbeBHq"
      },
      "execution_count": null,
      "outputs": []
    },
    {
      "cell_type": "code",
      "source": [
        "cv_score"
      ],
      "metadata": {
        "colab": {
          "base_uri": "https://localhost:8080/"
        },
        "id": "kLdF37ZCiDMM",
        "outputId": "ac5b80dc-e470-4ab9-8968-6e176d5db401"
      },
      "execution_count": null,
      "outputs": [
        {
          "output_type": "execute_result",
          "data": {
            "text/plain": [
              "array([0.96702555, 0.9558101 , 0.95193533, 0.96503401, 0.94400314])"
            ]
          },
          "metadata": {},
          "execution_count": 70
        }
      ]
    },
    {
      "cell_type": "code",
      "source": [
        "cv_score.mean()"
      ],
      "metadata": {
        "colab": {
          "base_uri": "https://localhost:8080/"
        },
        "id": "R7hug93JiGtE",
        "outputId": "81b0b906-b5a3-4de5-92de-7341606f9395"
      },
      "execution_count": null,
      "outputs": [
        {
          "output_type": "execute_result",
          "data": {
            "text/plain": [
              "0.9567616253524853"
            ]
          },
          "metadata": {},
          "execution_count": 72
        }
      ]
    },
    {
      "cell_type": "code",
      "source": [
        "cat_cross_entropy_score(clf,df_train,df_test)"
      ],
      "metadata": {
        "colab": {
          "base_uri": "https://localhost:8080/"
        },
        "id": "B7jqYr3WiIhU",
        "outputId": "60da9fd2-fbc4-4d24-ef23-4bbdc2620a7b"
      },
      "execution_count": null,
      "outputs": [
        {
          "output_type": "execute_result",
          "data": {
            "text/plain": [
              "1021.77856"
            ]
          },
          "metadata": {},
          "execution_count": 172
        }
      ]
    },
    {
      "cell_type": "code",
      "source": [
        "### Bagging with KNN"
      ],
      "metadata": {
        "id": "FoiZtorUis9H"
      },
      "execution_count": null,
      "outputs": []
    },
    {
      "cell_type": "code",
      "source": [
        "from sklearn.ensemble import BaggingClassifier"
      ],
      "metadata": {
        "id": "4aX84ptm_aSC"
      },
      "execution_count": null,
      "outputs": []
    },
    {
      "cell_type": "code",
      "source": [
        "clf = BaggingClassifier(base_estimator=make_pipeline(StandardScaler(),KNeighborsClassifier(n_neighbors=5)),\n",
        "                         n_estimators=10, random_state=0).fit(df_train.iloc[:,:-1], df_train.iloc[:,-1])"
      ],
      "metadata": {
        "id": "WyVunDXR_gGA"
      },
      "execution_count": null,
      "outputs": []
    },
    {
      "cell_type": "code",
      "source": [
        "clf.predict(df_test.iloc[:,:-1])"
      ],
      "metadata": {
        "colab": {
          "base_uri": "https://localhost:8080/"
        },
        "id": "1xxpsj9TASSe",
        "outputId": "b49110ed-8780-43a5-aa91-d37c0861cae0"
      },
      "execution_count": null,
      "outputs": [
        {
          "output_type": "execute_result",
          "data": {
            "text/plain": [
              "array(['A', 'Y', 'F', ..., 'A', 'A', 'A'], dtype=object)"
            ]
          },
          "metadata": {},
          "execution_count": 176
        }
      ]
    },
    {
      "cell_type": "code",
      "source": [
        "clf.predict_proba(df_test.iloc[:,:-1])"
      ],
      "metadata": {
        "colab": {
          "base_uri": "https://localhost:8080/"
        },
        "id": "rPZyHFisA4cl",
        "outputId": "cdac85c5-2090-41bd-d676-d76f13df6e54"
      },
      "execution_count": null,
      "outputs": [
        {
          "output_type": "execute_result",
          "data": {
            "text/plain": [
              "array([[0.44, 0.  , 0.  , ..., 0.4 , 0.12, 0.  ],\n",
              "       [0.26, 0.  , 0.  , ..., 0.  , 0.  , 0.32],\n",
              "       [0.32, 0.  , 0.  , ..., 0.  , 0.08, 0.  ],\n",
              "       ...,\n",
              "       [0.54, 0.  , 0.  , ..., 0.  , 0.  , 0.  ],\n",
              "       [0.4 , 0.  , 0.  , ..., 0.  , 0.  , 0.  ],\n",
              "       [0.38, 0.  , 0.06, ..., 0.  , 0.  , 0.  ]])"
            ]
          },
          "metadata": {},
          "execution_count": 181
        }
      ]
    },
    {
      "cell_type": "code",
      "source": [
        "clf.predict_proba(df_test.iloc[:,:-1])[0]"
      ],
      "metadata": {
        "colab": {
          "base_uri": "https://localhost:8080/"
        },
        "id": "WrEhKsdOBGJY",
        "outputId": "886c32a8-c6df-4751-9afe-7604c026dac3"
      },
      "execution_count": null,
      "outputs": [
        {
          "output_type": "execute_result",
          "data": {
            "text/plain": [
              "array([0.44, 0.  , 0.  , 0.  , 0.04, 0.  , 0.  , 0.  , 0.  , 0.4 , 0.12,\n",
              "       0.  ])"
            ]
          },
          "metadata": {},
          "execution_count": 182
        }
      ]
    },
    {
      "cell_type": "code",
      "source": [
        "clf.predict_proba(df_test.iloc[:,:-1])[1]"
      ],
      "metadata": {
        "colab": {
          "base_uri": "https://localhost:8080/"
        },
        "id": "GJjzJkY1BOjV",
        "outputId": "22edb2d2-ac46-4e09-99b8-84e5dbb4b7a0"
      },
      "execution_count": null,
      "outputs": [
        {
          "output_type": "execute_result",
          "data": {
            "text/plain": [
              "array([0.26, 0.  , 0.  , 0.12, 0.24, 0.  , 0.  , 0.06, 0.  , 0.  , 0.  ,\n",
              "       0.32])"
            ]
          },
          "metadata": {},
          "execution_count": 183
        }
      ]
    },
    {
      "cell_type": "code",
      "source": [
        "clf.score(df_test.iloc[:,:-1],df_test.iloc[:,-1])"
      ],
      "metadata": {
        "colab": {
          "base_uri": "https://localhost:8080/"
        },
        "id": "GXdGLAdfBXl4",
        "outputId": "54d092ef-6667-4509-99ca-8c07d0d59554"
      },
      "execution_count": null,
      "outputs": [
        {
          "output_type": "execute_result",
          "data": {
            "text/plain": [
              "0.7416882245856089"
            ]
          },
          "metadata": {},
          "execution_count": 184
        }
      ]
    },
    {
      "cell_type": "code",
      "source": [
        "cat_cross_entropy_score(clf,df_train,df_test)"
      ],
      "metadata": {
        "colab": {
          "base_uri": "https://localhost:8080/"
        },
        "id": "N1KhcFV2AbYK",
        "outputId": "dad7c798-8127-4b45-e12f-2452122a531a"
      },
      "execution_count": null,
      "outputs": [
        {
          "output_type": "execute_result",
          "data": {
            "text/plain": [
              "inf"
            ]
          },
          "metadata": {},
          "execution_count": 185
        }
      ]
    },
    {
      "cell_type": "code",
      "source": [
        "cohen_kappa_score(df_test.iloc[:,-1],clf.predict(df_test.iloc[:,:-1]))"
      ],
      "metadata": {
        "colab": {
          "base_uri": "https://localhost:8080/"
        },
        "id": "pDoFFa6IAfFi",
        "outputId": "85abef1d-21da-4f1a-b3c0-b0633ab020f9"
      },
      "execution_count": null,
      "outputs": [
        {
          "output_type": "execute_result",
          "data": {
            "text/plain": [
              "0.6540665980286771"
            ]
          },
          "metadata": {},
          "execution_count": 178
        }
      ]
    },
    {
      "cell_type": "code",
      "source": [
        "cv_score=cross_val_score(clf,df_test.iloc[:,:-1],df_test.iloc[:,-1],scoring=make_scorer(cohen_kappa_score),cv=5,n_jobs=-1)"
      ],
      "metadata": {
        "id": "3J3YGffTAw9v"
      },
      "execution_count": null,
      "outputs": []
    },
    {
      "cell_type": "code",
      "source": [
        "cv_score.mean()"
      ],
      "metadata": {
        "colab": {
          "base_uri": "https://localhost:8080/"
        },
        "id": "P3npVsi-A0Ns",
        "outputId": "71709fb9-c9ba-4b31-af4d-ab99c8c79b66"
      },
      "execution_count": null,
      "outputs": [
        {
          "output_type": "execute_result",
          "data": {
            "text/plain": [
              "0.6394818458791458"
            ]
          },
          "metadata": {},
          "execution_count": 180
        }
      ]
    },
    {
      "cell_type": "code",
      "source": [
        "# hyperparameters with xgboost"
      ],
      "metadata": {
        "id": "Bj35_xCcA30W"
      },
      "execution_count": null,
      "outputs": []
    },
    {
      "cell_type": "code",
      "source": [
        "clf_xgb=XGBClassifier(objective=\"multi:softprob\",random_state=42)\n",
        "clf_xgb.fit(df_train.iloc[:,:-1],df_train.iloc[:,-1])"
      ],
      "metadata": {
        "colab": {
          "base_uri": "https://localhost:8080/"
        },
        "id": "JB4mKptGK-NH",
        "outputId": "f87bed60-84a3-4757-ba6f-b116bfee2c32"
      },
      "execution_count": null,
      "outputs": [
        {
          "output_type": "execute_result",
          "data": {
            "text/plain": [
              "XGBClassifier(objective='multi:softprob', random_state=42)"
            ]
          },
          "metadata": {},
          "execution_count": 195
        }
      ]
    },
    {
      "cell_type": "code",
      "source": [
        "from sklearn.model_selection import GridSearchCV"
      ],
      "metadata": {
        "id": "KPVChOrtPpOV"
      },
      "execution_count": 14,
      "outputs": []
    },
    {
      "cell_type": "code",
      "source": [
        "def kappa(y_act, y_pred):\n",
        "    return cohen_kappa_score(y_act, y_pred)\n",
        "\n",
        "Kappa = make_scorer(kappa)"
      ],
      "metadata": {
        "id": "LYsgUaUJQOkX"
      },
      "execution_count": 15,
      "outputs": []
    },
    {
      "cell_type": "code",
      "source": [
        "param_grid = {\n",
        "    'max_depth':[3,4,5],\n",
        "    'learning_rate':[0.1,0.01,0.05],\n",
        "    'gamma':[0,0.25,1.0],\n",
        "    'reg_lambda':[0,1.0,10.0],\n",
        "    'scale_pos_weight':[1,3,5]\n",
        "\n",
        "}\n",
        "optimal_params=GridSearchCV(\n",
        "    estimator=XGBClassifier(\n",
        "        objective=\"multi:softprob\",\n",
        "        seed=42,\n",
        "        subsample=0.9,\n",
        "        colsample_bytree=0.5),\n",
        "        param_grid=param_grid,\n",
        "        verbose=True,\n",
        "        scoring=kappa,\n",
        "        n_jobs=-1,\n",
        "        cv=3\n",
        ")"
      ],
      "metadata": {
        "id": "_DnZmTqFPioI"
      },
      "execution_count": 16,
      "outputs": []
    },
    {
      "cell_type": "code",
      "source": [
        "optimal_params.fit(df_train.iloc[:,:-1],df_train.iloc[:,-1])\n",
        "print(optimal_params.best_score_)\n",
        "print(optimal_params.best_params_)"
      ],
      "metadata": {
        "colab": {
          "base_uri": "https://localhost:8080/"
        },
        "id": "f8yC4Y15QaTe",
        "outputId": "254c7a01-5155-4f39-f3df-3458988bf3c6"
      },
      "execution_count": null,
      "outputs": [
        {
          "output_type": "stream",
          "name": "stdout",
          "text": [
            "Fitting 3 folds for each of 243 candidates, totalling 729 fits\n"
          ]
        }
      ]
    },
    {
      "cell_type": "code",
      "source": [
        "param_grid = {\n",
        "    'max_depth':[3,4,5],\n",
        "    'learning_rate':[0.1,0.01,0.05],\n",
        "    'gamma':[0,0.25,1.0],\n",
        "    'reg_lambda':[0,1.0,10.0],\n",
        "    'scale_pos_weight':[1,3,5]\n",
        "\n",
        "}\n",
        "optimal_params=GridSearchCV(\n",
        "    estimator=XGBClassifier(\n",
        "        objective=\"multi:softprob\",\n",
        "        seed=42,\n",
        "        subsample=0.9,\n",
        "        colsample_bytree=0.5),\n",
        "        param_grid=param_grid,\n",
        "        verbose=True,\n",
        "        scoring=kappa,\n",
        "        n_jobs=-1,\n",
        "        cv=3\n",
        ")"
      ],
      "metadata": {
        "id": "d4qvsrsRR_O2"
      },
      "execution_count": null,
      "outputs": []
    },
    {
      "cell_type": "code",
      "source": [
        "optimal_params.fit(df_train.iloc[:,:-1],df_train.iloc[:,-1])\n",
        "print(optimal_params.best_score_)\n",
        "print(optimal_params.best_params_)"
      ],
      "metadata": {
        "id": "YNw8OOAGSAkz"
      },
      "execution_count": null,
      "outputs": []
    },
    {
      "cell_type": "code",
      "source": [
        ""
      ],
      "metadata": {
        "id": "2tBO7n2FSC0H"
      },
      "execution_count": null,
      "outputs": []
    }
  ]
}